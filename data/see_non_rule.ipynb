{
 "cells": [
  {
   "cell_type": "code",
   "execution_count": 12,
   "metadata": {
    "collapsed": false
   },
   "outputs": [
    {
     "name": "stdout",
     "output_type": "stream",
     "text": [
      "The autoreload extension is already loaded. To reload it, use:\n",
      "  %reload_ext autoreload\n",
      "final threshold= 5 319 828 6076\n",
      "initial threshold= 5 317 1170 6609\n",
      "dict_keys([\"Florida\", \"Fascism\", \"Jane's\", \"Magic\", \"Spain\", \"America\", Num(6), Num(2), Num(23), \"Cold\", \"Middle\", \"White\", \"God\", \"Arab\", \"Soviet\", Num(2001), Num(20), Num(31), \"Non-Proliferation\", \"Al-Rashid\", Num(1970), Num(2000000000), \"Thailand\", Num(1000000), Num(11), \"Bill\", \"York\", \"Hejian\", \"Day\", \"Navy\", \"Forum\", Num(4), \"Earth\", Num(5000000000), \"Vietnam\", \"ALH\", \"Foreign\", \"al-Qaida\", \"9/11\", \"Budget\", \"Revolution\", Num(1990), \"Catholicism\", Num(2008), Num(15), \"England\", \"Office\", \"Cheney\", \"Libya\", \"Treaty\", \"U.S.\", \"Church\", \"Al-Qaeda\", \"Indonesia\", \"Trayvon\", \"Christianity\", \"Hussein\", \"Kingdom\", \"Tea\", \"Catholic\", \"Asia-Pacific\", \"neo-Nazism\", \"Resolution\", \"Himalayas\", \"Scotland\", \"National\", Num(16), \"Democrat\", \"CFE\", \"Governors\", Num(100000000), Num(100000), \"Agency\", Num(200000000), \"Democratic\", Num(17), Num(-1), Num(1994), \"Fox\", \"Villafane\", \"United\", \"Brazil\", \"Barack\", \"Moo-hyun\", \"American\", \"Defense\", Num(2011), \"South\", \"Nazi\", \"Tory\", \"Israel\", Num(9), \"Estonia\", Num(30000000), \"West\", \"Taliban\", \"Islamism\", \"Army\", Num(2002), \"Colombia\", \"Labour\", \"Italiane\", \"Ukraine\", \"Asia\", Num(19), \"Jesus\", Num(22), \"Times\", Num(1.5), \"Committee\", \"Street\", Num(50), \"Kurd\", \"Nations\", \"Pakistan\", Num(100000000000), \"Canada\", \"Iraq\", \"Analysis\", \"Korea\", \"Sistan-Baluchestan\", \"House\", \"Swamp\", \"Arabia\", Num(1000000000), Num(10000000), \"Lowes\", \"Don't\", \"Palin\", \"Energy\", \"Rica\", \"Education\", \"Social\", Num(300000000), Num(40), Num(100), \"Saudi\", \"Cuba\", \"Soltanieh\", \"Beltrán\", \"Algeria\", \"Jew\", Num(2003), \"India\", \"Washington\", \"Myong-Chol\", \"Mexico\", \"Zimbabwe\", \"al-Qaeda\", Num(2000), \"Federal\", Num(3000000), Num(10), Num(3), \"Cali-Girl\", \"Romney\", Num(0.5), \"Mr.\", \"II\", \"Iran\", \"Bush\", \"Paul\", Num(30), Num(5), Num(2004), \"Georgia\", \"Joe\", Num(14), \"Christ\", \"People's\", \"Keynes\", \"China\", \"Wen-Huang\", \"Central\", \"New\", Num(2000000), Num(25), \"Palestine\", \"Alliot-Marie\", \"the\", \"State\", \"East\", \"Japan\", \"Sea\", \"Kong\", Num(10000000000), \"Europe\", \"Conservative\", Num(13), \"Africa\", \"Argentina\", Num(24), \"North\", Num(0), Num(12), \"Russia\", Num(1980), \"Islam\", \"N.R.\", \"Tibet\", \"Air\", Num(7), \"Albania\", \"NATO\", \"Board\", \"Workers'\", Num(50000000), \"Slammer\", \"Department\", \"Taiwan\", \"Jersey\", \"influenza\", \"Australia\", Num(27), Num(21), \"Hindu\", \"of\", Num(1960), Num(150000000), \"International\", \"-1\", \"communism\", \"Egypt\", \"Nazism\", \"Jordan\", \"No.\", Num(26), \"Glenn\", \"Green\", \"socialism\", \"Congress\", \"Wikipedia\", \"Great\", \"Parliament\", \"A\", \"Gulf\", \"States\", \"Chechnya\", Num(1000000000000), \"Western\", \"Google\", \"Sweden\", Num(2006), \"Liberal\", \"Switzerland\", \"Intelligence\", \"Christian\", \"First\", \"US\", \"Gingrich\", \"1/2\", Num(2005), \"Tajikistan\", \"Beck\", \"Daily\", \"World\", \"YouTube\", Num(10000), \"Malaysia\", \"Union\", Num(5000000), \"France\", \"Medicare\", \"Force\", \"Wall\", \"Amendment\", Num(250000), \"Court\", \"Region\", Num(2007), \"Eastern\", \"Afghanistan\", \"George\", \"Occupy\", \"Italy\", \"Syria\", \"Scheper-Hughes\", \"Party\", \"The\", \"AD\", Num(18), \"Northern\", \"Rightist\", \"Reserve\", \"Laos\", \"News\", \"Senate\", \"Britain\", \"Republican\", Num(8), Num(300000000000), \"F-15K\", \"Obama\", \"Ying-jeou\", \"Space\", \"Turkey\", \"Forces\", \"Germany\", Num(1000), \"Security\", \"Mike\", \"W.\", \"Muslim\", \"Ministry\", \"UN\", Num(+), \"Clinton\", \"Nuclear\", \"Post\", \"Ireland\", Num(1), \"UK\", \"Newt\", \"Center\", \"Congressional\", \"War\", \"Kashmir\", \"Martin\", Num(28)])\n",
      "\n",
      "dict_keys([Concept(idiotic), Concept(conventional), Concept(mark), Concept(trade), Concept(act), Concept(multi), Concept(atomic), Concept(revolution), Concept(agency), Concept(trust), Concept(wipe-99), Concept(regional), Concept(wealthy), Concept(first), Concept(hear-99), Concept(kingdom), Concept(league), Concept(wall), Concept(association), Concept(coast), Concept(course), Concept(congress), Concept(point-99), Concept(least), Concept(tea), Concept(assembly), Concept(wood), Concept(effect-99), Concept(medicare), Concept(democrat), Concept(research), Concept(figure-99), Concept(in), Concept(union), Concept(two), Concept(amnesty), Concept(supreme), Concept(peninsula), Concept(traditional), Concept(second), Concept(republic), Concept(central), Concept(religious), Concept(proliferation), Concept(custom), Concept(ministry), Concept(council), Concept(commission), Concept(presidency), Concept(expand-99), Concept(count), Concept(cancer), Concept(cup), Concept(harbor), Concept(strategic)])\n",
      "in final, not in initial 55\n",
      "in initial, not in final 397\n",
      "dict_keys([\"Florida\", \"Fascism\", \"Jane's\", \"Magic\", \"Spain\", \"America\", Num(6), Num(2), Num(23), \"Cold\", \"Middle\", \"White\", \"God\", \"Arab\", \"Soviet\", Num(2001), Num(20), Num(31), \"Non-Proliferation\", \"Al-Rashid\", Num(1970), Num(2000000000), \"Thailand\", Num(1000000), Num(11), \"Bill\", \"York\", \"Hejian\", \"Day\", \"Navy\", \"Forum\", Num(4), \"Earth\", Num(5000000000), \"Vietnam\", \"ALH\", \"Foreign\", \"al-Qaida\", \"9/11\", \"Budget\", \"Revolution\", Num(1990), \"Catholicism\", Num(2008), Num(15), \"England\", \"Office\", \"Cheney\", \"Libya\", \"Treaty\", \"U.S.\", \"Church\", \"Al-Qaeda\", \"Indonesia\", \"Trayvon\", \"Christianity\", \"Hussein\", \"Kingdom\", \"Tea\", \"Catholic\", \"Asia-Pacific\", \"neo-Nazism\", \"Resolution\", \"Himalayas\", \"Scotland\", \"National\", Num(16), \"Democrat\", \"CFE\", \"Governors\", Num(100000000), Num(100000), \"Agency\", Num(200000000), \"Democratic\", Num(17), Num(-1), Num(1994), \"Fox\", \"Villafane\", \"United\", \"Brazil\", \"Barack\", \"Moo-hyun\", \"American\", \"Defense\", Num(2011), \"South\", \"Nazi\", \"Tory\", \"Israel\", Num(9), \"Estonia\", Num(30000000), \"West\", \"Taliban\", \"Islamism\", \"Army\", Num(2002), \"Colombia\", \"Labour\", \"Italiane\", \"Ukraine\", \"Asia\", Num(19), \"Jesus\", Num(22), \"Times\", Num(1.5), \"Committee\", \"Street\", Num(50), \"Kurd\", \"Nations\", \"Pakistan\", Num(100000000000), \"Canada\", \"Iraq\", \"Analysis\", \"Korea\", \"Sistan-Baluchestan\", \"House\", \"Swamp\", \"Arabia\", Num(1000000000), Num(10000000), \"Lowes\", \"Don't\", \"Palin\", \"Energy\", \"Rica\", \"Education\", \"Social\", Num(300000000), Num(40), Num(100), \"Saudi\", \"Cuba\", \"Soltanieh\", \"Beltrán\", \"Algeria\", \"Jew\", Num(2003), \"India\", \"Washington\", \"Myong-Chol\", \"Mexico\", \"Zimbabwe\", \"al-Qaeda\", Num(2000), \"Federal\", Num(3000000), Num(10), Num(3), \"Cali-Girl\", \"Romney\", Num(0.5), \"Mr.\", \"II\", \"Iran\", \"Bush\", \"Paul\", Num(30), Num(5), Num(2004), \"Georgia\", \"Joe\", Num(14), \"Christ\", \"People's\", \"Keynes\", \"China\", \"Wen-Huang\", \"Central\", \"New\", Num(2000000), Num(25), \"Palestine\", \"Alliot-Marie\", \"the\", \"State\", \"East\", \"Japan\", \"Sea\", \"Kong\", Num(10000000000), \"Europe\", \"Conservative\", Num(13), \"Africa\", \"Argentina\", Num(24), \"North\", Num(0), Num(12), \"Russia\", Num(1980), \"Islam\", \"N.R.\", \"Tibet\", \"Air\", Num(7), \"Albania\", \"NATO\", \"Board\", \"Workers'\", Num(50000000), \"Slammer\", \"Department\", \"Taiwan\", \"Jersey\", \"influenza\", \"Australia\", Num(27), Num(21), \"Hindu\", \"of\", Num(1960), Num(150000000), \"International\", \"-1\", \"communism\", \"Egypt\", \"Nazism\", \"Jordan\", \"No.\", Num(26), \"Glenn\", \"Green\", \"socialism\", \"Congress\", \"Wikipedia\", \"Great\", \"Parliament\", \"A\", \"Gulf\", \"States\", \"Chechnya\", Num(1000000000000), \"Western\", \"Google\", \"Sweden\", Num(2006), \"Liberal\", \"Switzerland\", \"Intelligence\", \"Christian\", \"First\", \"US\", \"Gingrich\", \"1/2\", Num(2005), \"Tajikistan\", \"Beck\", \"Daily\", \"World\", \"YouTube\", Num(10000), \"Malaysia\", \"Union\", Num(5000000), \"France\", \"Medicare\", \"Force\", \"Wall\", \"Amendment\", Num(250000), \"Court\", \"Region\", Num(2007), \"Eastern\", \"Afghanistan\", \"George\", \"Occupy\", \"Italy\", \"Syria\", \"Scheper-Hughes\", \"Party\", \"The\", \"AD\", Num(18), \"Northern\", \"Rightist\", \"Reserve\", \"Laos\", \"News\", \"Senate\", \"Britain\", \"Republican\", Num(8), Num(300000000000), \"F-15K\", \"Obama\", \"Ying-jeou\", \"Space\", \"Turkey\", \"Forces\", \"Germany\", Num(1000), \"Security\", \"Mike\", \"W.\", \"Muslim\", \"Ministry\", \"UN\", Num(+), \"Clinton\", \"Nuclear\", \"Post\", \"Ireland\", Num(1), \"UK\", \"Newt\", \"Center\", \"Congressional\", \"War\", \"Kashmir\", \"Martin\", Num(28)])\n",
      "dict_keys([Concept(demonstrate-99), Concept(calm-down-99), Concept(set-up-99), Concept(post-scriptum), Concept(differ-99), Concept(like-99), Concept(theory), Concept(center), Concept(meet-99), Concept(have-quant-99), Concept(request-confirmation-99), Concept(idiotic), Concept(society), Concept(date-entity), Concept(hopeful-99), Concept(close-99), Concept(conventional), Concept(boss), Concept(come-in-99), Concept(shut-down-99), Concept(father), Concept(security), Concept(husband), Concept(ordinal-entity), Concept(president), Concept(quantity), Concept(use-99), Concept(purchase-99), Concept(so), Concept(behave-99), Concept(kill-99), Concept(counter-99), Concept(weapon), Concept(on-time), Concept(and-or), Concept(location), Concept(sign-99), Concept(come-99), Concept(mark), Concept(trade), Concept(feed-99), Concept(criticism-99), Concept(infer-99), Concept(act), Concept(multi), Concept(university), Concept(atomic), Concept(vice), Concept(join-in-99), Concept(so-far), Concept(hold-on-99), Concept(terrorism), Concept(screw-up-99), Concept(well-off-99), Concept(allow-99), Concept(offense-99), Concept(hand-over-99), Concept(accompany-99), Concept(wide-99), Concept(temperature-quantity), Concept(sit-down-99), Concept(experience-99), Concept(name-99), Concept(aircraft-type), Concept(participate-99), Concept(fucking), Concept(make-up-99), Concept(in-reality), Concept(temporary), Concept(penalize-99), Concept(include-99), Concept(hearing-99), Concept(correct-99), Concept(law), Concept(some), Concept(oh-my-god), Concept(old), Concept(revolution), Concept(at-least), Concept(have-concession-99), Concept(have-purpose-99), Concept(take-out-99), Concept(past), Concept(race), Concept(agency), Concept(build-up-99), Concept(corporation), Concept(southeast), Concept(less-than), Concept(city-district), Concept(device), Concept(show-up-99), Concept(trust), Concept(digital), Concept(take-away-99), Concept(wipe-99), Concept(disc), Concept(fuck), Concept(be-done-99), Concept(have-polarity-99), Concept(avoid-99), Concept(off), Concept(road), Concept(step-in-99), Concept(graduate), Concept(want-99), Concept(political-movement), Concept(county), Concept(go-on-99), Concept(turn-on-99), Concept(peace), Concept(book), Concept(cover-up-99), Concept(language), Concept(break-up-99), Concept(it), Concept(regional), Concept(get-by-99), Concept(pass-on-99), Concept(get-99), Concept(ship), Concept(shit), Concept(after), Concept(offend-99), Concept(ballistics), Concept(prefer-99), Concept(worsen-99), Concept(flat-out), Concept(employ-99), Concept(grass-roots), Concept(multi-sentence), Concept(we), Concept(stable-99), Concept(give-up-99), Concept(wise), Concept(contain-99), Const(expressive), Concept(contrast-99), Concept(television), Concept(intend-99), Concept(committee), Concept(stupid), Concept(slow-down-99), Concept(get-through-99), Concept(quote-99), Concept(conference), Concept(equal-99), Concept(impression-99), Concept(westernize-99), Concept(you), Concept(capable-99), Concept(left-99), Concept(put-in-99), Concept(stimulate-99), Concept(turn-off-99), Concept(religion), Concept(wealthy), Concept(act-99), Concept(journal), Concept(care-99), Concept(time), Concept(convention), Concept(come-up-99), Concept(submarine), Concept(distance-quantity), Concept(own-99), Concept(attorney), Concept(electronics), Concept(concern-99), Concept(approximately), Concept(as-much-as), Concept(river), Concept(fire-99), Concept(hostility), Concept(neoconservative), Concept(incident), Concept(need-99), Concept(exemplify-99), Concept(they), Concept(cut-off-99), Concept(sort-of), Concept(force-99), Concept(political), Concept(money), Concept(fall-apart-99), Concept(government-organization), Concept(democracy), Concept(libertarian), Concept(inside), Concept(well-99), Concept(woman), Concept(seismic-quantity), Concept(identity), Concept(determine-99), Concept(imagine-99), Concept(appear-99), Concept(secure-99), Concept(first), Concept(island), Concept(everyone), Concept(enter-99), Concept(sign-up-99), Concept(volume-quantity), Concept(pay-99), Concept(make-out-99), Concept(chief), Concept(take-on-99), Concept(hear-99), Concept(kingdom), Concept(nucleus), Concept(clean-up-99), Concept(pick-up-99), Concept(at-most), Concept(appreciate-99), Concept(finance), Concept(world-region), Concept(league), Concept(byline-99), Concept(missile), Concept(media), Concept(cyber), Concept(relative-position), Concept(minute), Concept(wall), Concept(millimeter), Concept(define-99), Concept(medicine), Concept(harm-99), Concept(let-down-99), Concept(life), Concept(try-99), Concept(planet), Concept(renminbi), Concept(interest-99), Concept(association), Concept(hold-up-99), Concept(atom), Concept(east), Concept(shoot-down-99), Concept(be-compared-to-99), Concept(animal), Concept(give-99), Concept(anthropogenic), Concept(coast), Concept(beat-up-99), Concept(weapons-grade), Concept(region), Concept(join-up-99), Concept(right-99), Concept(more), Concept(launch-99), Concept(meter), Concept(oppose-99), Concept(increase-99), Concept(publication), Concept(nuts), Concept(course), Concept(lead-99), Concept(date-interval), Concept(relation-99), Concept(service-99), Concept(significant-other), Concept(criticize-99), Concept(put-up-99), Concept(area-quantity), Concept(laugh-99), Concept(center-99), Concept(or), Concept(have-rel-role-99), Concept(oh-yeah), Concept(mean-99), Concept(congress), Concept(multinational), Concept(point-99), Concept(even-if), Concept(end-up-99), Concept(ass), Concept(rape-99), Concept(grow-99), Concept(repute-99), Concept(permit-99), Concept(by-far), Concept(least), Concept(variable), Concept(hard-99), Concept(opine-99), Concept(local-region), Concept(get-off-99), Concept(post-99), Concept(require-99), Concept(force), Concept(about-to), Concept(look-up-99), Concept(see-99), Concept(score-entity), Concept(win-99), Concept(hyperlink-99), Concept(go-off-99), Concept(warm-99), Concept(except-99), Concept(doctor), Concept(definite), Concept(leave-out-99), Concept(meet-up-99), Concept(country-region), Concept(criminal-organization), Concept(work-out-99), Concept(yuan), Concept(ally-99), Concept(extremism), Concept(ethics), Concept(realize-99), Concept(kind-of), Concept(volunteer-99), Concept(small-molecule), Concept(find-out-99), Concept(danger), Concept(website), Concept(democratic), Concept(benefit-99), Concept(hate-99), Concept(say-99), Concept(tea), Concept(left-wing), Concept(serve-99), Concept(by-all-means), Concept(assembly), Concept(pretty-much), Concept(state), Concept(wood), Concept(manner), Concept(between), Concept(air), Concept(member), Concept(original), Concept(effect-99), Concept(fit-in-99), Concept(show-99), Concept(write-99), Concept(harass-99), Concept(consume-99), Concept(work-of-art), Concept(industry), Concept(last-99), Concept(score-on-scale-99), Concept(any), Concept(lay-off-99), Concept(medicare), Concept(likely-99), Concept(sum-of), Concept(real-99), Concept(at-times), Concept(democrat), Concept(healthy), Concept(mind), Concept(sexual), Const(imperative), Concept(administer-99), Concept(respect-99), Concept(close-down-99), Concept(here), Concept(teabagger), Concept(fear-99), Concept(market), Concept(early), Concept(back-up-99), Concept(someone), Concept(inch), Concept(west), Concept(home), Concept(south), Concept(ideology), Concept(make-99), Concept(as-soon-as), Concept(run-out-99), Concept(poor), Concept(recession-99), Concept(related-99), Concept(die-99), Concept(lay-99), Concept(right-wing), Concept(message-99), Concept(mass), Concept(just), Concept(as-far-as), Concept(get-on-99), Concept(team), Concept(by-the-way), Concept(in-a-row), Concept(more-and-more), Concept(backward), Concept(rate-entity-99), Concept(despair-99), Concept(department), Concept(have-li-99), Concept(show), Concept(go-back-99), Concept(probable), Concept(science), Concept(by-oneself), Num(-), Concept(cost-99), Const(interrogative), Concept(favor-99), Concept(name), Concept(rate-99), Concept(he), Concept(country), Concept(value-99), Concept(tax-99), Concept(disease), Concept(research), Concept(ballistic), Concept(suck-up-99), Concept(bring-up-99), Concept(deny-99), Concept(military), Concept(predict-99), Concept(plan-99), Concept(ocean), Concept(figure-99), Concept(territory), Concept(first-of-all), Concept(inform-99), Concept(until), Concept(kilometer), Concept(follow-up-99), Concept(suppose-99), Concept(inherit-99), Concept(loud), Concept(vehicle), Concept(url-entity), Concept(ride-99), Concept(in), Concept(parliament), Concept(number), Concept(health), Concept(since), Concept(foot), Concept(will-99), Concept(again), Concept(politics), Concept(before), Concept(treaty), Concept(union), Concept(two), Concept(way), Concept(religious-group), Concept(arms), Concept(as-many-as), Concept(dear), Concept(hope-99), Concept(look-forward-99), Concept(festival), Concept(catch-up-99), Concept(share-99), Concept(amr-unknown), Concept(fuck-up-99), Concept(bring-about-99), Concept(take-over-99), Concept(ratio-of), Concept(award), Concept(brother), Concept(amnesty), Concept(most), Concept(every), Concept(pass-99), Concept(align-99), Concept(supreme), Concept(state-99), Concept(control-99), Concept(event), Concept(peninsula), Concept(mass-quantity), Concept(agree-99), Concept(magazine), Concept(grow-up-99), Concept(range-99), Concept(succeed-99), Concept(month), Concept(powerful-99), Concept(commerce), Concept(help-out-99), Concept(cut-out-99), Concept(cause-99), Concept(good-99), Concept(versatile), Concept(facility), Concept(exist-99), Concept(retard-99), Concept(break-down-99), Concept(nation), Concept(domestic), Concept(globe), Concept(traditional), Concept(have-frequency-99), Concept(seek-out-99), Concept(multiple), Concept(too), Concept(pass-by-99), Concept(under), Concept(get-back-99), Concept(as-long-as), Concept(carry-out-99), Concept(rule-out-99), Concept(have-mod-99), Concept(she), Concept(rely-99), Concept(no-one), Concept(enzyme), Concept(music), Concept(view-99), Concept(responsible-99), Concept(continent), Concept(near), Concept(store), Concept(social), Concept(schedule-99), Concept(publication-99), Concept(account-99), Concept(fall-out-99), Concept(signal-99), Concept(value-interval), Concept(dollar), Concept(believe-99), Concept(call-on-99), Concept(pound), Concept(program), Concept(navy), Concept(population), Concept(anyway), Concept(go-99), Concept(piss-99), Concept(gas), Concept(know-99), Concept(hour), Concept(worship-place), Concept(come-on-99), Concept(vary-99), Concept(ally), Concept(pedophile), Concept(euro-cent), Concept(be-located-at-99), Concept(draw-up-99), Concept(regardless-99), Concept(track-down-99), Concept(recommend-99), Concept(all-over), Concept(as-such), Concept(dimension), Concept(less), Concept(vacation-99), Concept(narcotics), Concept(engineer-99), Concept(improvise-99), Concept(bullshit), Concept(freeze-99), Concept(enough), Concept(achieve-99), Concept(other), Concept(logical), Concept(conform-99), Concept(part), Concept(become-99), Concept(clarify-99), Concept(same-99), Concept(lock-up-99), Concept(family), Concept(fuck-99), Concept(work-99), Concept(hanging-99), Concept(pay-off-99), Concept(come-across-99), Concept(carrier), Concept(et-cetera), Concept(part-time), Concept(crime-99), Concept(second), Concept(product-of), Concept(keep-up-99), Concept(about), Concept(wear-99), Concept(reelect-99), Concept(gross-99), Concept(economy), Concept(amr-unintelligible), Concept(building), Concept(receive-99), Concept(economic), Concept(move-99), Concept(anyone), Concept(in-time), Concept(speak-out-99), Concept(represent-99), Concept(time-and-again), Concept(conservative), Concept(explode-99), Concept(live-up-99), Concept(suit-99), Concept(accountable-99), Concept(compromise-99), Concept(gift-99), Concept(lack-99), Concept(coverage-99), Concept(bullshit-99), Concept(versus), Concept(sea), Concept(personal-99), Concept(fund-99), Concept(north), Concept(pass-away-99), Concept(depend-99), Concept(amusement-park), Concept(this), Concept(war), Concept(commit-99), Concept(diplomacy), Concept(chapter), Concept(take-off-99), Concept(natural-disaster), Concept(title-99), Concept(republic), Concept(central), Concept(per-se), Concept(possible-99), Concept(in-fact), Concept(string-entity), Concept(suffice-99), Concept(long-99), Concept(district), Concept(strike-99), Concept(instead-of-99), Concept(violence), Concept(phone-number-entity), Concept(information), Concept(equal), Concept(religious), Concept(natural-object), Concept(up-to), Concept(ensure-99), Concept(together), Concept(suggest-99), Concept(proliferation), Concept(turn-out-99), Concept(true-99), Concept(have-part-99), Concept(unify-99), Concept(that), Concept(broadcast-program), Concept(anything), Concept(racism), Concept(fill-99), Concept(thing), Concept(intercontinental), Concept(govern-99), Concept(temporal-quantity), Concept(custom), Concept(tribe), Concept(think-99), Concept(come-out-99), Concept(executive), Concept(as-well), Concept(car-make), Concept(turn-down-99), Concept(daughter), Concept(head-of-state), Concept(live-99), Concept(cooperate-99), Concept(authority), Concept(describe-99), Concept(day), Concept(product), Concept(after-all), Concept(cite-99), Concept(motivate-99), Concept(dispute-99), Concept(tooth), Concept(ethic), Concept(attack-99), Concept(ethnic-group), Concept(throw-out-99), Concept(put-out-99), Concept(operate-99), Concept(medication), Concept(now), Concept(aircraft), Concept(refer-99), Concept(research-institute), Concept(at-all), Concept(former), Concept(turn-up-99), Concept(ministry), Concept(end-99), Concept(girlfriend), Concept(transition-99), Concept(yesterday), Concept(next-to), Concept(obligate-99), Concept(tax), Concept(sense-99), Concept(to-date), Concept(age-99), Concept(percentage-entity), Concept(very), Concept(hinder-99), Concept(only), Concept(council), Concept(support-99), Concept(document), Concept(game), Concept(pull-out-99), Concept(and), Concept(circuit), Concept(call-99), Concept(continue-99), Concept(decrease-99), Concept(argue-99), Concept(feed-up-99), Concept(have-99), Concept(defend-99), Concept(imprison-99), Concept(hold-back-99), Concept(negative-99), Concept(liberal-99), Concept(verse), Concept(deserve-99), Concept(recreation-99), Concept(honest-99), Concept(all), Concept(put-on-99), Concept(company), Concept(personnel), Concept(preexist-99), Concept(market-sector), Concept(turn-over-99), Concept(commission), Concept(presidency), Concept(expand-99), Concept(have-condition-99), Concept(count), Concept(resemble-99), Concept(newspaper), Concept(i), Concept(cancer), Concept(man), Concept(start-out-99), Concept(as-usual), Concept(check-out-99), Concept(open-up-99), Concept(assist-99), Concept(blow-up-99), Concept(make-it-99), Concept(point), Concept(run-off-99), Concept(telecommunication), Concept(success), Concept(that-is-it-99), Concept(governor), Concept(understand-99), Concept(rate), Concept(officer), Concept(at-first), Concept(spaceship), Concept(remember-99), Concept(city), Concept(have-to-do-with-99), Concept(over), Concept(let-alone), Concept(run-up-99), Concept(child), Concept(leave-99), Concept(political-party), Concept(save-99), Concept(have-manner-99), Concept(drop-out-99), Concept(destroy-99), Concept(go-down-99), Concept(statistics), Concept(carry-on-99), Concept(year), Concept(have-org-role-99), Concept(general), Concept(motive), Concept(today), Concept(identify-99), Concept(come-down-99), Concept(organization), Concept(administrate-99), Concept(remain-99), Concept(rescue-99), Concept(standard-99), Concept(then), Concept(slash), Concept(person), Concept(be-from-99), Concept(lie-99), Concept(decide-99), Concept(fight-99), Concept(cup), Concept(movement-99), Concept(go-out-99), Concept(be-temporally-at-99), Concept(document-99), Concept(monetary-quantity), Concept(cut-down-99), Concept(bear-99), Concept(first-hand), Concept(bring-down-99), Concept(harbor), Concept(mathematics), Concept(province), Concept(strategic), Concept(blah-blah-blah), Concept(wish-99), Concept(place), Concept(add-99), Concept(full-time), Concept(business), Concept(no), Concept(more-than), Concept(in-front-of), Concept(do-99), Concept(hand-out-99), Concept(energy-quantity), Concept(stand-up-99), Concept(qualify-99), Concept(technology), Concept(nothing-but)])\n"
     ]
    }
   ],
   "source": [
    "%load_ext autoreload\n",
    "%autoreload 2\n",
    "from npmt.rules import *\n",
    "import  pickle,pprint\n",
    "from utility.amr import *\n",
    "from utility.pickle_helper import *\n",
    "from utility.constants import *\n",
    "from utility.converter import *\n",
    "\n",
    "re_arrange = lambda d: [[k,d[k][0],d[k][1]] for k in d.keys()]\n",
    "sort_dict = lambda d:sorted(re_arrange(d), key=lambda x: x[1], reverse=True)\n",
    "\n",
    "pkl_file = open('non_rule_set', 'rb')\n",
    "\n",
    "data = pickle.load(pkl_file)\n",
    "non_rule_set_initial = data[\"initial_non_rule_set\"]\n",
    "\n",
    "\n",
    "#pprint.pprint (sorted_set)                    \n",
    "threshold = 5\n",
    "\n",
    "non_rule_set = data[\"non_rule_set\"]\n",
    "text_num,high_non_text,low_non_text=unmixe(non_rule_set,threshold)\n",
    "text_num_i,high_non_text_i,low_non_text_i=unmixe(non_rule_set_initial,threshold)\n",
    "print (\"final threshold=\", threshold,len(text_num),len(high_non_text),len(low_non_text))\n",
    "print(\"initial threshold=\",threshold,len(text_num_i),len(high_non_text_i),len(low_non_text_i))\n",
    "print (text_num.keys())\n",
    "def subtract_key(d1,d2):\n",
    "    d1_d2 = dict()\n",
    "    for i in d1.keys():\n",
    "        if not i in d2:\n",
    "            o = d1[i]\n",
    "            ss = [o[0]]\n",
    "            for s in o[1]:\n",
    "                ss.append(\" \".join(s))\n",
    "            d1_d2[i]=ss\n",
    "    return d1_d2\n",
    "d1_d2 = subtract_key(high_non_text,high_non_text_i)\n",
    "d2_d1 = subtract_key(high_non_text_i,high_non_text)\n",
    "#print (d1_d2)\n",
    "print ( )\n",
    "print (d1_d2.keys())\n",
    "print (\"in final, not in initial\",len(d1_d2))\n",
    "#print (d2_d1.keys())\n",
    "print (\"in initial, not in final\",len(d2_d1))\n",
    "\n",
    "print (text_num.keys())\n",
    "print (high_non_text.keys())\n",
    "#pprint (sort_dict(low_non_text))\n",
    "\n",
    "#final threshold= 10 184 514 6717\n",
    "#initial threshold= 10 184 732 7209\n",
    "\n",
    "#final threshold= 10 184 507 6605\n",
    "#initial threshold= 10 184 734 7213\n",
    "\n",
    "#final threshold= 10 186 514 6549\n",
    "#initial threshold= 10 186 732 7178"
   ]
  },
  {
   "cell_type": "code",
   "execution_count": 29,
   "metadata": {
    "collapsed": false
   },
   "outputs": [
    {
     "name": "stdout",
     "output_type": "stream",
     "text": [
      "{'prison': 91}\n",
      "{'prison': 1, 'imprison': 9}\n"
     ]
    }
   ],
   "source": [
    "c = \"prison\"\n",
    "print (rl.lemma_freq_con[c])\n",
    "print (rl.lemma_freq_frame[c])"
   ]
  },
  {
   "cell_type": "code",
   "execution_count": 24,
   "metadata": {
    "collapsed": false
   },
   "outputs": [
    {
     "ename": "RuntimeError",
     "evalue": "Language not supported: en",
     "output_type": "error",
     "traceback": [
      "\u001b[0;31m---------------------------------------------------------------------------\u001b[0m",
      "\u001b[0;31mRuntimeError\u001b[0m                              Traceback (most recent call last)",
      "\u001b[0;32m<ipython-input-24-b49ef4a54090>\u001b[0m in \u001b[0;36m<module>\u001b[0;34m()\u001b[0m\n\u001b[1;32m      1\u001b[0m \u001b[0;34m\u001b[0m\u001b[0m\n\u001b[1;32m      2\u001b[0m \u001b[0;32mimport\u001b[0m \u001b[0mspacy\u001b[0m\u001b[0;34m\u001b[0m\u001b[0m\n\u001b[0;32m----> 3\u001b[0;31m \u001b[0mnlp\u001b[0m \u001b[0;34m=\u001b[0m \u001b[0mspacy\u001b[0m\u001b[0;34m.\u001b[0m\u001b[0mload\u001b[0m\u001b[0;34m(\u001b[0m\u001b[0;34m'en'\u001b[0m\u001b[0;34m)\u001b[0m\u001b[0;34m\u001b[0m\u001b[0m\n\u001b[0m",
      "\u001b[0;32m/afs/inf.ed.ac.uk/user/s15/s1544871/anaconda3/lib/python3.6/site-packages/spacy/__init__.py\u001b[0m in \u001b[0;36mload\u001b[0;34m(name, vocab, tokenizer, parser, tagger, entity, matcher, serializer, vectors, via)\u001b[0m\n\u001b[1;32m     13\u001b[0m \u001b[0;32mfrom\u001b[0m \u001b[0;34m.\u001b[0m \u001b[0;32mimport\u001b[0m \u001b[0mes\u001b[0m\u001b[0;34m\u001b[0m\u001b[0m\n\u001b[1;32m     14\u001b[0m \u001b[0;32mfrom\u001b[0m \u001b[0;34m.\u001b[0m \u001b[0;32mimport\u001b[0m \u001b[0mit\u001b[0m\u001b[0;34m\u001b[0m\u001b[0m\n\u001b[0;32m---> 15\u001b[0;31m \u001b[0;32mfrom\u001b[0m \u001b[0;34m.\u001b[0m \u001b[0;32mimport\u001b[0m \u001b[0mhu\u001b[0m\u001b[0;34m\u001b[0m\u001b[0m\n\u001b[0m\u001b[1;32m     16\u001b[0m \u001b[0;32mfrom\u001b[0m \u001b[0;34m.\u001b[0m \u001b[0;32mimport\u001b[0m \u001b[0mfr\u001b[0m\u001b[0;34m\u001b[0m\u001b[0m\n\u001b[1;32m     17\u001b[0m \u001b[0;32mfrom\u001b[0m \u001b[0;34m.\u001b[0m \u001b[0;32mimport\u001b[0m \u001b[0mpt\u001b[0m\u001b[0;34m\u001b[0m\u001b[0m\n",
      "\u001b[0;32m/afs/inf.ed.ac.uk/user/s15/s1544871/anaconda3/lib/python3.6/site-packages/spacy/util.py\u001b[0m in \u001b[0;36mget_package_by_name\u001b[0;34m(name, via)\u001b[0m\n\u001b[1;32m     39\u001b[0m     \u001b[0;32mif\u001b[0m \u001b[0;32mnot\u001b[0m \u001b[0mrequire_exists\u001b[0m\u001b[0;34m:\u001b[0m\u001b[0;34m\u001b[0m\u001b[0m\n\u001b[1;32m     40\u001b[0m         \u001b[0;32mreturn\u001b[0m \u001b[0m_data_path\u001b[0m\u001b[0;34m\u001b[0m\u001b[0m\n\u001b[0;32m---> 41\u001b[0;31m     \u001b[0;32melse\u001b[0m\u001b[0;34m:\u001b[0m\u001b[0;34m\u001b[0m\u001b[0m\n\u001b[0m\u001b[1;32m     42\u001b[0m         \u001b[0;32mreturn\u001b[0m \u001b[0m_data_path\u001b[0m \u001b[0;32mif\u001b[0m \u001b[0m_data_path\u001b[0m\u001b[0;34m.\u001b[0m\u001b[0mexists\u001b[0m\u001b[0;34m(\u001b[0m\u001b[0;34m)\u001b[0m \u001b[0;32melse\u001b[0m \u001b[0;32mNone\u001b[0m\u001b[0;34m\u001b[0m\u001b[0m\n\u001b[1;32m     43\u001b[0m \u001b[0;34m\u001b[0m\u001b[0m\n",
      "\u001b[0;32m/afs/inf.ed.ac.uk/user/s15/s1544871/anaconda3/lib/python3.6/site-packages/spacy/util.py\u001b[0m in \u001b[0;36mget_lang_class\u001b[0;34m(name)\u001b[0m\n\u001b[1;32m     32\u001b[0m     \u001b[0mlang\u001b[0m \u001b[0;34m=\u001b[0m \u001b[0mre\u001b[0m\u001b[0;34m.\u001b[0m\u001b[0msplit\u001b[0m\u001b[0;34m(\u001b[0m\u001b[0;34m'[^a-zA-Z0-9]'\u001b[0m\u001b[0;34m,\u001b[0m \u001b[0mname\u001b[0m\u001b[0;34m,\u001b[0m \u001b[0;36m1\u001b[0m\u001b[0;34m)\u001b[0m\u001b[0;34m[\u001b[0m\u001b[0;36m0\u001b[0m\u001b[0;34m]\u001b[0m\u001b[0;34m\u001b[0m\u001b[0m\n\u001b[1;32m     33\u001b[0m     \u001b[0;32mif\u001b[0m \u001b[0mlang\u001b[0m \u001b[0;32mnot\u001b[0m \u001b[0;32min\u001b[0m \u001b[0mLANGUAGES\u001b[0m\u001b[0;34m:\u001b[0m\u001b[0;34m\u001b[0m\u001b[0m\n\u001b[0;32m---> 34\u001b[0;31m         \u001b[0;32mraise\u001b[0m \u001b[0mRuntimeError\u001b[0m\u001b[0;34m(\u001b[0m\u001b[0;34m'Language not supported: %s'\u001b[0m \u001b[0;34m%\u001b[0m \u001b[0mlang\u001b[0m\u001b[0;34m)\u001b[0m\u001b[0;34m\u001b[0m\u001b[0m\n\u001b[0m\u001b[1;32m     35\u001b[0m     \u001b[0;32mreturn\u001b[0m \u001b[0mLANGUAGES\u001b[0m\u001b[0;34m[\u001b[0m\u001b[0mlang\u001b[0m\u001b[0;34m]\u001b[0m\u001b[0;34m\u001b[0m\u001b[0m\n\u001b[1;32m     36\u001b[0m \u001b[0;34m\u001b[0m\u001b[0m\n",
      "\u001b[0;31mRuntimeError\u001b[0m: Language not supported: en"
     ]
    }
   ],
   "source": [
    "\n",
    "import spacy\n",
    "nlp = spacy.load('en') "
   ]
  },
  {
   "cell_type": "code",
   "execution_count": 25,
   "metadata": {
    "collapsed": false
   },
   "outputs": [
    {
     "name": "stdout",
     "output_type": "stream",
     "text": [
      "The autoreload extension is already loaded. To reload it, use:\n",
      "  %reload_ext autoreload\n"
     ]
    }
   ],
   "source": [
    "%load_ext autoreload\n",
    "%autoreload 2\n",
    "from npmt.rules import *\n",
    "\n",
    "rl= load_rule(\"rule_f\")"
   ]
  },
  {
   "cell_type": "code",
   "execution_count": 13,
   "metadata": {
    "collapsed": false
   },
   "outputs": [
    {
     "name": "stdout",
     "output_type": "stream",
     "text": [
      "The autoreload extension is already loaded. To reload it, use:\n",
      "  %reload_ext autoreload\n",
      "False\n",
      "[0, 0, 0, 0, 0, 0, 0, 0, 0]\n",
      "{'12': 2, 'decide': 1}\n",
      "[15, 'lastly , farthest away you can see putian of shenzhen .', \"amman 7 - 29 - 2007 ( a. f. p. ) - the saudi man 's team win the gold medal for the 4x100 meter relay today , sunday , in the last day of the 17 th asian athletics championship hold in the jordanian capital amman .\", \"government in the pro - us gulf state be wary of iran 's nuclear program but be also concern by the united states federal government 's refusal to rule out military action as a last resort .\", \"sisi 's last word be reportedly what happen to me?.\", 'elbaradei state that this be the last chance to build security in the middle east base on trust and cooperation and not on possession of nuclear weapon .', 'hawaii will be the last stop of his nine - day us trip .', 'kohl and yeltsin also discuss the issue of bosnia - herzegovina after attend the ceremony for the withdrawal of the last group of russian troop from germany .', 'ff , thanks for the discussion , i will leave the last post of the evening to you .', 'lastly , i be amazed by your spin on the fact that half of americans do not pay federal income tax .', 'december 26 , 1975 , mao zedong have his 82th birth day , his last one .', 'i think santorum be go to be the last of the \" not romneys \" , and newt have have his moment .', 'the last thing that china want be a weak dollar because that would completely wipe out any chance of a trade surplus from their number one trading partner ... the u.s.', 'finally \" a quarter of all primary school child be muslim \" .', \"it ' a comedy show that have some commentary , stewart would be the last one to say it ' news .\", 'and lastly , with the easter holiday come up , young child will need something to keep them occupy .']\n",
      " \n",
      "[15, 'lastly , farthest away you can see putian of shenzhen .', \"amman 7 - 29 - 2007 ( a. f. p. ) - the saudi man 's team win the gold medal for the 4x100 meter relay today , sunday , in the last day of the 17 th asian athletics championship hold in the jordanian capital amman .\", \"government in the pro - us gulf state be wary of iran 's nuclear program but be also concern by the united states federal government 's refusal to rule out military action as a last resort .\", \"sisi 's last word be reportedly what happen to me?.\", 'elbaradei state that this be the last chance to build security in the middle east base on trust and cooperation and not on possession of nuclear weapon .', 'hawaii will be the last stop of his nine - day us trip .', 'kohl and yeltsin also discuss the issue of bosnia - herzegovina after attend the ceremony for the withdrawal of the last group of russian troop from germany .', 'ff , thanks for the discussion , i will leave the last post of the evening to you .', 'lastly , i be amazed by your spin on the fact that half of americans do not pay federal income tax .', 'december 26 , 1975 , mao zedong have his 82th birth day , his last one .', 'i think santorum be go to be the last of the \" not romneys \" , and newt have have his moment .', 'the last thing that china want be a weak dollar because that would completely wipe out any chance of a trade surplus from their number one trading partner ... the u.s.', 'finally \" a quarter of all primary school child be muslim \" .', \"it ' a comedy show that have some commentary , stewart would be the last one to say it ' news .\", 'and lastly , with the easter holiday come up , young child will need something to keep them occupy .']\n",
      "['While', 'it', 'should', 'have', 'been', 'a', 'disaster', 'relief', 'command', 'that', 'takes', 'overall', 'leadership', ',', 'it', 'has', 'suddenly', 'come', 'face', '-', 'to', '-', 'face', 'with', 'the', 'broad', 'base', 'of', 'disaster', 'victims', ',', 'directly', 'dealing', 'with', 'them', '.'] ['while', 'it', 'should', 'have', 'be', 'a', 'disaster', 'relief', 'command', 'that', 'take', 'overall', 'leadership', ',', 'it', 'have', 'suddenly', 'come', 'face', '-', 'to', '-', 'face', 'with', 'the', 'broad', 'base', 'of', 'disaster', 'victim', ',', 'directly', 'deal', 'with', 'them', '.']\n",
      "amr_to_seq\n",
      "[([('<blank>', 2, -1)], 'Rule_Frame', ':top'), ([('and', 1, -1)], 'Rule_Concept', ':ARG1'), ([('<blank>', 2, -1)], 'Rule_Frame', ':op1'), ([('it', 1, -1)], 'Rule_Concept', ':ARG0'), ([('<blank>', 2, -1)], 'Rule_Concept', ':ARG1'), ([('<blank>', 2, -1)], 'Rule_Concept', ':mod'), ([('<blank>', 2, -1)], 'Rule_Concept', ':mod'), ([('<blank>', 2, -1)], 'Rule_Frame', ':ARG1-of'), ([('<blank>', 2, -1)], 'Rule_Concept', ':manner'), ([('<blank>', 2, -1)], 'Rule_Frame', ':op2'), ([('it', 1, -1)], 'Rule_Concept', ':ARG0'), ([('<blank>', 2, -1)], 'Rule_Concept', ':ARG2'), ([('<blank>', 2, -1)], 'Rule_Frame', ':ARG1-of'), ([('<blank>', 2, -1)], 'Rule_Frame', ':ARG2'), ([('<blank>', 2, -1)], 'Rule_Frame', ':ARG1'), ([('<blank>', 2, -1)], 'Rule_Frame', ':ARG1'), ([('<blank>', 2, -1)], 'Rule_Concept', ':ARG1'), ([('<blank>', 2, -1)], 'Rule_Frame', ':ARG0-of'), ([('<blank>', 2, -1)], 'Rule_Concept', ':mod')]\n",
      "it it with with\n"
     ]
    }
   ],
   "source": [
    "%load_ext autoreload\n",
    "%autoreload 2\n",
    "from npmt.rules import *\n",
    "def see(x):\n",
    "    o1 = non_rule_set[x]\n",
    "    ss1 = [o1[0]]\n",
    "    for s in o1[1]:\n",
    "        ss1.append(\" \".join(s))    \n",
    "    o2 = non_rule_set_initial[x]\n",
    "    ss2 = [o2[0]]\n",
    "    for s in o2[1]:\n",
    "        ss2.append(\" \".join(s))\n",
    "    return ss1, ss2\n",
    "\n",
    "#print (len(rl.frame_list))\n",
    "#read_frame(rl.frame_list)\n",
    "amr_t = \"(c / contrast-01 :ARG1 (a / and :op1 (f2 / face-01 :ARG0 (i / it) :ARG1 (v / victim :mod (d4 / disaster) :mod (b2 / base :ARG1-of (b / broad-02))) :manner (s / sudden)) :op2 (d / deal-01 :ARG0 i :ARG2 v :ARG1-of (d3 / direct-02))) :ARG2 (r2 / recommend-01 :ARG1 (c4 / command-02 :ARG1 (r / relieve-01 :ARG1 (d2 / disaster)) :ARG0-of (l / lead-02 :mod (o3 / overall)))))\"\n",
    "amr = AMR(amr_t)   \n",
    "m = [0,0,0,0,0,0,0,0,0]\n",
    "print (checkMatch(\"defend\",\"defense\",m))\n",
    "print (m)\n",
    "c = \"decide\"\n",
    "print (rl.lemma_freq_con[c])\n",
    "#print (rl.frame99(c))\n",
    "#print (\"word\",c,\";lemma\",rl.lemmatize_cheat[c.lower()])\n",
    "c = \"affect-99\" \n",
    "con = Concept(c)\n",
    "con = AMRNumber(\"-1\")\n",
    "print (see(con)[0])\n",
    "print (\" \")\n",
    "print (see(con)[1])\n",
    "\n",
    "sentence = \"While it should have been a disaster relief command that takes overall leadership, it has suddenly come face-to-face with the broad base of disaster victims, directly dealing with them.\"\n",
    "x = nlp(sentence)\n",
    "pos = [i.lemma_ for i in x]\n",
    "snt_token = [i.text for i in x]\n",
    "print (snt_token,pos)\n",
    "rule_ge = rl.apply_all_sentence([i.text for i in x],[i.lemma_ for i in x])\n",
    "print(\"amr_to_seq\")\n",
    "print (amr_to_seq(amr,snt_token,pos,rl,high_non_text))\n",
    "print(snt_token[1],snt_token[14],snt_token[23],snt_token[33])\n",
    "#print (rule_ge)\n",
    "#print (rl.lemmatize_cheat)"
   ]
  },
  {
   "cell_type": "code",
   "execution_count": 21,
   "metadata": {
    "collapsed": false
   },
   "outputs": [
    {
     "name": "stdout",
     "output_type": "stream",
     "text": [
      "[[(Concept(byline-99), Concept(byline-99))], [(Concept(publication), Concept(publication))], [(Concept(name), Concept(name))], [('Rule_String', 0)], [('Rule_String', 1)], [('Rule_String', 2)], [(Concept(person), Concept(person))], [(Concept(name), Concept(name))], [('Rule_String', 11)], [('Rule_String', 12)], [('Rule_Frame', 10)], [(Concept(date-entity), Concept(date-entity))], [('Rule_Num', 6)], [('Rule_Num', Num(8))], [(Concept(city), Concept(city))], [(Concept(name), Concept(name))]]\n",
      "(b / byline-91\n",
      "    :ARG0 (p2 / publication\n",
      "        :wiki \"Xinhua_News_Agency\"\n",
      "        :name (n / name\n",
      "            :op1 \"Xinhua\"\n",
      "            :op2 \"News\"\n",
      "            :op3 \"Agency\"))\n",
      "    :ARG1 (p / person\n",
      "        :wiki -\n",
      "        :name (n2 / name\n",
      "            :op1 \"Yongfeng\"\n",
      "            :op2 \"Shi\")\n",
      "        :ARG0-of (r / report-01))\n",
      "    :time (d / date-entity\n",
      "        :month 3\n",
      "        :day 8)\n",
      "    :location (c2 / city\n",
      "        :wiki \"Yichang\"\n",
      "        :name (n3 / name\n",
      "            :op1 \"Yichang\")))\n",
      "['Xinhua', 'News', 'Agency', ',', 'Yichang', ',', 'March', '8th', ',', 'by', 'reporter', 'Yongfeng', 'Shi']\n"
     ]
    }
   ],
   "source": [
    "print(amr_to_seq(amr,snt_token,pos,rl,high_non_text))\n",
    "print (amr)\n",
    "print (snt_token)"
   ]
  },
  {
   "cell_type": "code",
   "execution_count": null,
   "metadata": {
    "collapsed": false
   },
   "outputs": [],
   "source": [
    "\n",
    "\n",
    "def add_lemmatize_cheat(rl,non_rule_set):\n",
    "    newdict = dict()\n",
    "    for c in non_rule_set.keys():\n",
    "        if not c.is_constant() :\n",
    "            if c.is_frame():\n",
    "                c_t = re.sub(c.RE_FRAME_NUM,\"\",c.__str__())\n",
    "            else:\n",
    "                c_t = c.__str__()\n",
    "            sentences = non_rule_set[c][1]\n",
    "            non_rule_set[c][1] = []\n",
    "            for tokens in sentences:\n",
    "                matched = False\n",
    "                for t in tokens:\n",
    "                    t = t.lower()\n",
    "                    if checkMatch(t,c_t):\n",
    "                        if rl.add_lemmatize_cheat(t,c_t) or t in rl.lemmatize_cheat:\n",
    "                            matched = True\n",
    "                            print (t,wordnet_lemmatizer.lemmatize(t),c_t,c)\n",
    "                if not matched:\n",
    "                    non_rule_set[c][1].append(\" \".join(tokens))\n",
    "            if len( non_rule_set[c][1]) >0:\n",
    "                newdict[c] = non_rule_set[c]\n",
    "                newdict[c][0] = len(newdict[c][1])\n",
    "        else:\n",
    "            newdict[c] = non_rule_set[c]\n",
    "    return newdict\n",
    "#rl.frame_list[\"gone\"]    \n",
    "newdict = add_lemmatize_cheat(rl,non_rule_set)"
   ]
  },
  {
   "cell_type": "code",
   "execution_count": null,
   "metadata": {
    "collapsed": false
   },
   "outputs": [],
   "source": [
    "import  pickle,pprint\n",
    "\n",
    "re_arrange = lambda d: [[k,d[k][0],[' '.join(s) for s in d[k][1]]] for k in d.keys()]\n",
    "sort_dict = lambda d:sorted(re_arrange(d), key=lambda x: x[1], reverse=True)\n",
    "#pprint.pprint (sorted_set)                    \n",
    "threshold = 50\n",
    "newdict = non_rule_set\n",
    "text_num,high_non_text,low_non_text=unmixe(newdict,threshold)\n",
    "\n",
    "print (\"threshold\\ttotal\\tlennon_rule_set\\ttext_num\\thigh_frequency_concept\\tlow_frequency_concept\")\n",
    "print (str(threshold)+\"\\t\\t\"+str(len(newdict))+\"\\t\"+str(len(text_num))+\"\\t\\t\\t\\t\"+str(len(high_non_text))+\"\\t\\t\\t\"+str(len(low_non_text)))\n",
    "print (\"low_frequency_concept\")\n",
    "\n",
    "pprint.pprint (sort_dict(low_non_text))\n",
    "#pprint.pprint (sort_dict(high_non_text))\n"
   ]
  },
  {
   "cell_type": "code",
   "execution_count": null,
   "metadata": {
    "collapsed": false
   },
   "outputs": [],
   "source": [
    "\n",
    "from nltk.metrics.distance import edit_distance\n",
    "def checkMatch(s1,s2):\n",
    "    return (1.0*edit_distance(s1,s2)/min(len(s1),len(s2)) < 0.25) \n",
    "print (checkMatch(\"angrily\",\"angry\"))\n",
    "print (checkMatch(\"rediculousness\",\"ridiculous\"))"
   ]
  }
 ],
 "metadata": {
  "anaconda-cloud": {},
  "kernelspec": {
   "display_name": "Python 3",
   "language": "python",
   "name": "python3"
  },
  "language_info": {
   "codemirror_mode": {
    "name": "ipython",
    "version": 3
   },
   "file_extension": ".py",
   "mimetype": "text/x-python",
   "name": "python",
   "nbconvert_exporter": "python",
   "pygments_lexer": "ipython3",
   "version": "3.6.0"
  }
 },
 "nbformat": 4,
 "nbformat_minor": 1
}
