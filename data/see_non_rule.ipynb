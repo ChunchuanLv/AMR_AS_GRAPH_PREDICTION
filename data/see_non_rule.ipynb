{
 "cells": [
  {
   "cell_type": "code",
   "execution_count": 3,
   "metadata": {
    "collapsed": false
   },
   "outputs": [
    {
     "name": "stdout",
     "output_type": "stream",
     "text": [
      "The autoreload extension is already loaded. To reload it, use:\n",
      "  %reload_ext autoreload\n",
      "final threshold= 5 319 828 6076\n",
      "initial threshold= 5 317 1170 6609\n",
      "dict_keys([Num(28), \"Georgia\", \"Liberal\", \"Christian\", \"Russia\", \"Occupy\", Num(30000000), \"Wen-Huang\", \"Middle\", \"Force\", \"Villafane\", Num(2002), \"Federal\", \"God\", \"Governors\", \"UK\", \"Congressional\", \"Iran\", \"Court\", \"Senate\", \"Swamp\", \"Jersey\", \"Intelligence\", \"Wall\", \"Estonia\", \"Department\", \"Sweden\", \"Joe\", \"CFE\", \"Libya\", \"Republican\", \"Soviet\", \"Asia-Pacific\", \"Sistan-Baluchestan\", \"International\", \"State\", \"Kurd\", \"Committee\", \"YouTube\", \"Tibet\", Num(25), \"First\", \"Revolution\", Num(3000000), \"Cheney\", \"North\", Num(2004), \"Agency\", \"Muslim\", \"influenza\", Num(2003), \"Algeria\", \"Chechnya\", \"socialism\", \"II\", Num(40), \"Egypt\", \"Ukraine\", Num(3), \"Al-Rashid\", \"Space\", \"Forum\", Num(0), Num(13), \"Reserve\", Num(26), Num(5), Num(7), \"Germany\", \"Beltrán\", \"Union\", Num(24), \"Syria\", \"Democrat\", \"Soltanieh\", Num(1000000), \"War\", \"the\", \"Washington\", \"Turkey\", \"Ministry\", \"Non-Proliferation\", Num(200000000), Num(10000), \"Italy\", \"Nations\", \"Switzerland\", Num(50), \"Lowes\", \"Daily\", \"Arab\", \"Church\", Num(20), Num(5000000000), \"Resolution\", \"Western\", \"Analysis\", \"White\", Num(27), Num(-1), \"neo-Nazism\", Num(2007), \"Australia\", \"Navy\", Num(22), Num(1990), Num(30), \"Scheper-Hughes\", \"Florida\", \"Beck\", \"World\", \"Malaysia\", Num(1980), \"Office\", \"Bush\", \"Jane's\", Num(100000000), \"Post\", \"Board\", \"New\", \"France\", Num(2008), \"A\", \"Israel\", \"East\", \"Conservative\", \"Nazism\", \"China\", \"United\", Num(21), Num(1994), \"AD\", \"Treaty\", \"Workers'\", \"Party\", Num(2001), \"Slammer\", \"Don't\", Num(250000), \"American\", \"Asia\", \"1/2\", \"Gulf\", \"Fox\", Num(10), \"News\", \"communism\", \"Jesus\", \"Center\", \"The\", \"Labour\", \"Arabia\", \"Army\", Num(23), \"Paul\", \"Albania\", \"Kashmir\", \"UN\", \"F-15K\", \"Sea\", \"Hejian\", \"Canada\", \"Air\", \"Islamism\", \"Tea\", Num(300000000), \"Kong\", \"Eastern\", \"Fascism\", \"Central\", \"Jordan\", \"Obama\", \"Taliban\", Num(10000000000), \"U.S.\", Num(4), \"Vietnam\", \"Earth\", \"Rica\", \"No.\", Num(1.5), Num(2006), \"South\", \"Moo-hyun\", Num(1000000000), \"India\", \"Islam\", \"Gingrich\", Num(150000000), \"NATO\", Num(2011), \"Argentina\", Num(10000000), \"Glenn\", Num(2000000), \"Education\", \"National\", Num(2005), \"Wikipedia\", \"Social\", \"Ying-jeou\", Num(19), Num(1970), \"Mike\", \"Palestine\", \"Saudi\", \"Clinton\", \"Forces\", \"House\", \"Medicare\", Num(16), Num(15), Num(1000), Num(8), \"Catholic\", \"Trayvon\", \"Alliot-Marie\", \"Energy\", \"Mr.\", Num(300000000000), \"Christ\", \"Korea\", \"America\", Num(11), Num(50000000), \"Amendment\", \"York\", \"Great\", \"West\", \"Martin\", \"Palin\", \"Thailand\", Num(0.5), \"Security\", \"Iraq\", \"Himalayas\", \"Britain\", \"Kingdom\", \"Cali-Girl\", \"People's\", \"Green\", \"George\", \"al-Qaida\", \"Catholicism\", \"ALH\", \"-1\", \"Nuclear\", \"9/11\", \"Zimbabwe\", \"Romney\", Num(31), Num(2000), \"Spain\", \"Bill\", \"Barack\", \"Democratic\", \"Region\", \"US\", \"Colombia\", \"Europe\", \"Japan\", Num(100), \"England\", \"Hindu\", Num(17), \"Tory\", Num(14), \"Italiane\", \"Foreign\", \"Taiwan\", \"Scotland\", Num(12), Num(18), \"Congress\", Num(1000000000000), \"Google\", \"Newt\", \"States\", Num(100000), Num(5000000), \"Jew\", \"Budget\", \"Nazi\", \"Indonesia\", Num(9), Num(+), \"Mexico\", \"Cuba\", \"Hussein\", \"Tajikistan\", \"Day\", \"Cold\", Num(2), \"al-Qaeda\", \"Laos\", Num(1960), \"Keynes\", \"Defense\", \"W.\", \"Northern\", \"Rightist\", \"Al-Qaeda\", \"Street\", \"Times\", \"Brazil\", \"Myong-Chol\", \"Africa\", \"Ireland\", \"Afghanistan\", \"Magic\", Num(6), Num(1), \"Pakistan\", \"N.R.\", \"of\", Num(100000000000), Num(2000000000), \"Parliament\", \"Christianity\"])\n",
      "\n",
      "dict_keys([Concept(harbor), Concept(religious), Concept(central), Concept(expand-99), Concept(figure-99), Concept(amnesty), Concept(agency), Concept(hear-99), Concept(trust), Concept(supreme), Concept(cancer), Concept(traditional), Concept(democrat), Concept(wall), Concept(regional), Concept(congress), Concept(wipe-99), Concept(republic), Concept(research), Concept(course), Concept(medicare), Concept(conventional), Concept(in), Concept(trade), Concept(commission), Concept(point-99), Concept(act), Concept(coast), Concept(ministry), Concept(first), Concept(peninsula), Concept(idiotic), Concept(strategic), Concept(association), Concept(effect-99), Concept(mark), Concept(wealthy), Concept(two), Concept(custom), Concept(second), Concept(tea), Concept(count), Concept(cup), Concept(revolution), Concept(league), Concept(least), Concept(atomic), Concept(union), Concept(wood), Concept(assembly), Concept(presidency), Concept(council), Concept(multi), Concept(kingdom), Concept(proliferation)])\n",
      "in final, not in initial 55\n",
      "in initial, not in final 397\n",
      "dict_keys([Num(28), \"Georgia\", \"Liberal\", \"Christian\", \"Russia\", \"Occupy\", Num(30000000), \"Wen-Huang\", \"Middle\", \"Force\", \"Villafane\", Num(2002), \"Federal\", \"God\", \"Governors\", \"UK\", \"Congressional\", \"Iran\", \"Court\", \"Senate\", \"Swamp\", \"Jersey\", \"Intelligence\", \"Wall\", \"Estonia\", \"Department\", \"Sweden\", \"Joe\", \"CFE\", \"Libya\", \"Republican\", \"Soviet\", \"Asia-Pacific\", \"Sistan-Baluchestan\", \"International\", \"State\", \"Kurd\", \"Committee\", \"YouTube\", \"Tibet\", Num(25), \"First\", \"Revolution\", Num(3000000), \"Cheney\", \"North\", Num(2004), \"Agency\", \"Muslim\", \"influenza\", Num(2003), \"Algeria\", \"Chechnya\", \"socialism\", \"II\", Num(40), \"Egypt\", \"Ukraine\", Num(3), \"Al-Rashid\", \"Space\", \"Forum\", Num(0), Num(13), \"Reserve\", Num(26), Num(5), Num(7), \"Germany\", \"Beltrán\", \"Union\", Num(24), \"Syria\", \"Democrat\", \"Soltanieh\", Num(1000000), \"War\", \"the\", \"Washington\", \"Turkey\", \"Ministry\", \"Non-Proliferation\", Num(200000000), Num(10000), \"Italy\", \"Nations\", \"Switzerland\", Num(50), \"Lowes\", \"Daily\", \"Arab\", \"Church\", Num(20), Num(5000000000), \"Resolution\", \"Western\", \"Analysis\", \"White\", Num(27), Num(-1), \"neo-Nazism\", Num(2007), \"Australia\", \"Navy\", Num(22), Num(1990), Num(30), \"Scheper-Hughes\", \"Florida\", \"Beck\", \"World\", \"Malaysia\", Num(1980), \"Office\", \"Bush\", \"Jane's\", Num(100000000), \"Post\", \"Board\", \"New\", \"France\", Num(2008), \"A\", \"Israel\", \"East\", \"Conservative\", \"Nazism\", \"China\", \"United\", Num(21), Num(1994), \"AD\", \"Treaty\", \"Workers'\", \"Party\", Num(2001), \"Slammer\", \"Don't\", Num(250000), \"American\", \"Asia\", \"1/2\", \"Gulf\", \"Fox\", Num(10), \"News\", \"communism\", \"Jesus\", \"Center\", \"The\", \"Labour\", \"Arabia\", \"Army\", Num(23), \"Paul\", \"Albania\", \"Kashmir\", \"UN\", \"F-15K\", \"Sea\", \"Hejian\", \"Canada\", \"Air\", \"Islamism\", \"Tea\", Num(300000000), \"Kong\", \"Eastern\", \"Fascism\", \"Central\", \"Jordan\", \"Obama\", \"Taliban\", Num(10000000000), \"U.S.\", Num(4), \"Vietnam\", \"Earth\", \"Rica\", \"No.\", Num(1.5), Num(2006), \"South\", \"Moo-hyun\", Num(1000000000), \"India\", \"Islam\", \"Gingrich\", Num(150000000), \"NATO\", Num(2011), \"Argentina\", Num(10000000), \"Glenn\", Num(2000000), \"Education\", \"National\", Num(2005), \"Wikipedia\", \"Social\", \"Ying-jeou\", Num(19), Num(1970), \"Mike\", \"Palestine\", \"Saudi\", \"Clinton\", \"Forces\", \"House\", \"Medicare\", Num(16), Num(15), Num(1000), Num(8), \"Catholic\", \"Trayvon\", \"Alliot-Marie\", \"Energy\", \"Mr.\", Num(300000000000), \"Christ\", \"Korea\", \"America\", Num(11), Num(50000000), \"Amendment\", \"York\", \"Great\", \"West\", \"Martin\", \"Palin\", \"Thailand\", Num(0.5), \"Security\", \"Iraq\", \"Himalayas\", \"Britain\", \"Kingdom\", \"Cali-Girl\", \"People's\", \"Green\", \"George\", \"al-Qaida\", \"Catholicism\", \"ALH\", \"-1\", \"Nuclear\", \"9/11\", \"Zimbabwe\", \"Romney\", Num(31), Num(2000), \"Spain\", \"Bill\", \"Barack\", \"Democratic\", \"Region\", \"US\", \"Colombia\", \"Europe\", \"Japan\", Num(100), \"England\", \"Hindu\", Num(17), \"Tory\", Num(14), \"Italiane\", \"Foreign\", \"Taiwan\", \"Scotland\", Num(12), Num(18), \"Congress\", Num(1000000000000), \"Google\", \"Newt\", \"States\", Num(100000), Num(5000000), \"Jew\", \"Budget\", \"Nazi\", \"Indonesia\", Num(9), Num(+), \"Mexico\", \"Cuba\", \"Hussein\", \"Tajikistan\", \"Day\", \"Cold\", Num(2), \"al-Qaeda\", \"Laos\", Num(1960), \"Keynes\", \"Defense\", \"W.\", \"Northern\", \"Rightist\", \"Al-Qaeda\", \"Street\", \"Times\", \"Brazil\", \"Myong-Chol\", \"Africa\", \"Ireland\", \"Afghanistan\", \"Magic\", Num(6), Num(1), \"Pakistan\", \"N.R.\", \"of\", Num(100000000000), Num(2000000000), \"Parliament\", \"Christianity\"])\n",
      "dict_keys([Concept(save-99), Concept(city), Concept(step-in-99), Concept(coverage-99), Concept(all-over), Concept(next-to), Concept(gas), Concept(gift-99), Concept(volunteer-99), Concept(cite-99), Concept(economic), Concept(dispute-99), Concept(percentage-entity), Concept(inform-99), Concept(that-is-it-99), Concept(assist-99), Concept(motive), Concept(piss-99), Concept(very), Concept(less), Concept(be-done-99), Concept(bullshit), Concept(show-up-99), Concept(despair-99), Concept(go-down-99), Concept(well-99), Concept(ethics), Concept(get-back-99), Concept(require-99), Concept(first-of-all), Concept(rule-out-99), Concept(effect-99), Concept(hate-99), Concept(carry-out-99), Concept(as-much-as), Concept(millimeter), Concept(go-on-99), Concept(temporal-quantity), Concept(approximately), Concept(phone-number-entity), Concept(try-99), Concept(fear-99), Concept(recommend-99), Concept(slash), Concept(string-entity), Concept(wood), Concept(title-99), Concept(tax-99), Concept(health), Concept(infer-99), Concept(mean-99), Concept(fuck-up-99), Concept(circuit), Concept(electronics), Concept(service-99), Concept(turn-over-99), Concept(imprison-99), Concept(hand-out-99), Concept(life), Concept(wish-99), Concept(over), Concept(general), Concept(hard-99), Concept(country-region), Concept(get-99), Num(-), Concept(just), Concept(increase-99), Concept(media), Concept(off), Concept(number), Concept(screw-up-99), Concept(commission), Concept(look-forward-99), Concept(local-region), Concept(medication), Concept(danger), Concept(mass), Concept(bullshit-99), Concept(sign-99), Concept(brother), Concept(inch), Concept(so), Concept(deserve-99), Concept(together), Concept(harass-99), Concept(renminbi), Concept(extremism), Concept(move-99), Concept(worship-place), Concept(carry-on-99), Concept(multiple), Concept(range-99), Concept(succeed-99), Concept(join-in-99), Concept(ocean), Concept(on-time), Concept(accountable-99), Concept(everyone), Concept(variable), Concept(aircraft), Concept(think-99), Concept(point), Concept(call-99), Concept(animal), Concept(expand-99), Concept(figure-99), Concept(sign-up-99), Concept(river), Concept(trust), Concept(supreme), Concept(grow-up-99), Concept(agree-99), Concept(here), Concept(definite), Concept(convention), Concept(recession-99), Concept(part), Concept(fucking), Concept(place), Concept(worsen-99), Concept(trade), Concept(pick-up-99), Concept(aircraft-type), Concept(then), Concept(offense-99), Concept(break-down-99), Concept(seek-out-99), Concept(as-far-as), Concept(cost-99), Concept(describe-99), Concept(consume-99), Concept(start-out-99), Concept(more), Concept(schedule-99), Concept(suffice-99), Concept(minute), Concept(poor), Concept(amusement-park), Concept(nation), Concept(hostility), Concept(someone), Concept(have-to-do-with-99), Concept(suit-99), Concept(council), Concept(security), Concept(facility), Concept(harbor), Concept(grass-roots), Concept(make-up-99), Concept(man), Concept(stupid), Concept(hour), Concept(align-99), Concept(run-out-99), Concept(join-up-99), Concept(award), Concept(sense-99), Concept(allow-99), Concept(throw-out-99), Concept(day), Concept(no-one), Concept(old), Concept(this), Concept(identify-99), Concept(value-99), Concept(break-up-99), Concept(person), Concept(past), Concept(stable-99), Concept(chapter), Concept(pound), Concept(dollar), Concept(benefit-99), Concept(statistics), Concept(ally), Concept(negative-99), Concept(in-time), Concept(opine-99), Concept(war), Concept(domestic), Concept(name-99), Concept(cooperate-99), Concept(wear-99), Concept(govern-99), Concept(hold-up-99), Concept(come-down-99), Concept(they), Concept(original), Concept(serve-99), Concept(cup), Concept(way), Concept(represent-99), Concept(turn-down-99), Concept(argue-99), Concept(digital), Concept(fit-in-99), Concept(decide-99), Concept(central), Concept(medicine), Concept(music), Concept(navy), Concept(capable-99), Concept(race), Concept(time), Concept(have-99), Concept(less-than), Concept(well-off-99), Concept(information), Concept(warm-99), Concept(repute-99), Concept(pass-99), Concept(ratio-of), Concept(even-if), Concept(signal-99), Concept(suppose-99), Concept(experience-99), Concept(area-quantity), Concept(peninsula), Concept(see-99), Concept(leave-out-99), Concept(ordinal-entity), Concept(hold-back-99), Concept(right-99), Concept(logical), Concept(dear), Concept(wealthy), Concept(disease), Concept(ass), Concept(manner), Concept(cut-out-99), Concept(come-up-99), Concept(predict-99), Concept(share-99), Concept(other), Concept(union), Concept(et-cetera), Concept(today), Concept(assembly), Concept(relation-99), Concept(theory), Concept(vary-99), Concept(president), Concept(url-entity), Concept(attorney), Concept(regardless-99), Concept(personnel), Concept(amnesty), Concept(calm-down-99), Concept(event), Concept(hear-99), Concept(lock-up-99), Concept(ethic), Concept(most), Concept(publication), Concept(come-across-99), Concept(part-time), Concept(lead-99), Concept(compromise-99), Concept(time-and-again), Concept(have-purpose-99), Concept(carrier), Concept(contain-99), Concept(kill-99), Concept(society), Concept(science), Concept(obligate-99), Concept(plan-99), Concept(association), Concept(monetary-quantity), Concept(executive), Concept(technology), Concept(racism), Concept(teabagger), Concept(differ-99), Concept(natural-object), Concept(define-99), Concept(favor-99), Concept(realize-99), Concept(hope-99), Concept(come-99), Concept(corporation), Concept(count), Concept(resemble-99), Concept(add-99), Concept(center), Concept(multinational), Concept(liberal-99), Concept(in-front-of), Concept(offend-99), Concept(have-part-99), Concept(criticism-99), Concept(turn-on-99), Concept(let-alone), Concept(sit-down-99), Concept(put-in-99), Concept(be-from-99), Concept(spaceship), Concept(foot), Concept(make-it-99), Concept(authority), Concept(hinder-99), Concept(business), Concept(follow-up-99), Concept(magazine), Concept(cover-up-99), Concept(exist-99), Concept(make-99), Concept(take-off-99), Concept(west), Concept(backward), Concept(have-quant-99), Concept(hand-over-99), Concept(beat-up-99), Concept(until), Concept(market), Concept(end-up-99), Concept(mass-quantity), Concept(request-confirmation-99), Concept(oh-my-god), Concept(lay-off-99), Concept(continent), Concept(small-molecule), Concept(look-up-99), Concept(commerce), Concept(ally-99), Concept(terrorism), Concept(pull-out-99), Concept(put-on-99), Concept(every), Concept(mathematics), Concept(score-entity), Concept(sexual), Concept(governor), Concept(post-scriptum), Concept(full-time), Concept(fuck), Concept(planet), Concept(as-usual), Concept(tea), Concept(same-99), Concept(thing), Concept(long-99), Concept(democracy), Concept(real-99), Concept(track-down-99), Concept(arms), Concept(as-well), Concept(have-condition-99), Concept(laugh-99), Concept(chief), Concept(no), Concept(distance-quantity), Concept(up-to), Concept(at-most), Concept(come-out-99), Concept(as-long-as), Concept(first), Concept(refer-99), Concept(you), Concept(shoot-down-99), Concept(kind-of), Concept(department), Concept(need-99), Concept(write-99), Concept(weapon), Concept(cyber), Concept(conform-99), Concept(he), Concept(after-all), Concept(pass-on-99), Concept(intercontinental), Concept(participate-99), Concept(website), Concept(organization), Concept(mark), Concept(device), Concept(go-back-99), Concept(secure-99), Concept(sea), Concept(tooth), Concept(qualify-99), Concept(in-fact), Concept(district), Concept(pretty-much), Concept(volume-quantity), Concept(score-on-scale-99), Concept(westernize-99), Concept(tax), Concept(hopeful-99), Concept(political-party), Concept(date-interval), Concept(so-far), Concept(call-on-99), Concept(drop-out-99), Concept(kingdom), Concept(journal), Concept(unify-99), Concept(let-down-99), Concept(achieve-99), Concept(weapons-grade), Concept(appear-99), Concept(date-entity), Concept(include-99), Concept(force), Concept(amr-unknown), Concept(fall-out-99), Concept(about), Concept(officer), Concept(telecommunication), Concept(oh-yeah), Concept(document-99), Concept(strike-99), Concept(rely-99), Concept(amr-unintelligible), Concept(republic), Concept(give-99), Concept(nothing-but), Concept(point-99), Concept(respect-99), Concept(religion), Concept(energy-quantity), Concept(we), Concept(interest-99), Concept(before), Concept(standard-99), Concept(and), Concept(oppose-99), Concept(in-reality), Concept(wide-99), Concept(ship), Concept(close-99), Concept(boss), Concept(politics), Concept(except-99), Concept(nucleus), Concept(demonstrate-99), Concept(ballistics), Concept(it), Concept(have-li-99), Concept(have-frequency-99), Concept(act-99), Concept(responsible-99), Concept(multi-sentence), Concept(probable), Concept(set-up-99), Concept(submarine), Concept(sum-of), Concept(at-least), Concept(parliament), Concept(narcotics), Concept(cancer), Concept(game), Concept(have-mod-99), Concept(team), Concept(determine-99), Concept(tribe), Concept(enough), Concept(ensure-99), Concept(child), Concept(medicare), Concept(exemplify-99), Concept(television), Concept(province), Concept(message-99), Concept(open-up-99), Concept(fight-99), Concept(left-99), Concept(language), Concept(fund-99), Concept(ministry), Concept(force-99), Concept(and-or), Concept(slow-down-99), Concept(at-first), Concept(penalize-99), Concept(last-99), Concept(get-off-99), Concept(significant-other), Concept(go-out-99), Concept(first-hand), Concept(engineer-99), Concept(view-99), Concept(bring-about-99), Concept(sort-of), Concept(more-than), Concept(book), Concept(intend-99), Concept(religious-group), Concept(related-99), Concept(graduate), Concept(hold-on-99), Concept(anyway), Concept(course), Concept(give-up-99), Concept(have-manner-99), Concept(clean-up-99), Concept(home), Concept(suck-up-99), Concept(dimension), Concept(freeze-99), Concept(check-out-99), Concept(turn-off-99), Concept(religious), Concept(be-located-at-99), Concept(attack-99), Concept(versus), Concept(stand-up-99), Concept(as-many-as), Concept(state), Concept(build-up-99), Concept(live-up-99), Concept(shit), Concept(help-out-99), Concept(conference), Concept(remain-99), Concept(early), Concept(fill-99), Concept(democrat), Concept(work-of-art), Concept(wall), Concept(southeast), Concept(regional), Concept(draw-up-99), Const(interrogative), Concept(ride-99), Concept(keep-up-99), Concept(that), Concept(show), Concept(democratic), Concept(yuan), Concept(deny-99), Concept(former), Concept(motivate-99), Concept(success), Concept(administer-99), Concept(close-down-99), Concept(economy), Concept(vehicle), Concept(crime-99), Concept(commit-99), Concept(pass-away-99), Concept(loud), Concept(hearing-99), Concept(cut-down-99), Concept(verse), Concept(come-on-99), Concept(get-on-99), Concept(at-times), Concept(meet-up-99), Concept(as-such), Concept(by-the-way), Concept(program), Concept(will-99), Concept(run-off-99), Concept(revolution), Concept(military), Concept(in-a-row), Concept(live-99), Concept(enter-99), Concept(anyone), Concept(east), Concept(decrease-99), Concept(depend-99), Concept(year), Concept(value-interval), Concept(research-institute), Concept(husband), Concept(more-and-more), Concept(agency), Concept(treaty), Concept(gross-99), Concept(political-movement), Concept(rescue-99), Concept(back-up-99), Concept(country), Concept(at-all), Concept(go-99), Concept(head-of-state), Concept(again), Concept(control-99), Concept(she), Concept(i), Concept(end-99), Concept(enzyme), Concept(have-rel-role-99), Concept(do-99), Concept(girlfriend), Concept(violence), Concept(personal-99), Concept(family), Concept(county), Concept(blah-blah-blah), Concept(by-oneself), Concept(permit-99), Concept(globe), Concept(second), Concept(die-99), Concept(yesterday), Concept(feed-up-99), Concept(rate), Concept(libertarian), Concept(ballistic), Concept(retard-99), Concept(stimulate-99), Concept(age-99), Concept(leave-99), Concept(multi), Concept(government-organization), Concept(kilometer), Concept(impression-99), Concept(suggest-99), Concept(industry), Concept(some), Concept(document), Concept(fall-apart-99), Concept(publication-99), Concept(conventional), Concept(law), Concept(put-up-99), Concept(congress), Concept(about-to), Concept(turn-out-99), Concept(anthropogenic), Concept(lack-99), Concept(cause-99), Concept(name), Concept(store), Concept(political), Concept(go-off-99), Concept(product-of), Concept(father), Concept(reelect-99), Concept(appreciate-99), Concept(rape-99), Concept(pass-by-99), Concept(idiotic), Concept(under), Concept(rate-99), Concept(wise), Concept(explode-99), Concept(destroy-99), Concept(want-99), Concept(too), Concept(mind), Concept(disc), Concept(blow-up-99), Concept(territory), Concept(any), Concept(by-all-means), Concept(identity), Concept(anything), Concept(member), Concept(be-temporally-at-99), Concept(region), Concept(between), Concept(honest-99), Concept(company), Concept(pedophile), Concept(presidency), Concept(location), Concept(lay-99), Concept(say-99), Concept(after), Concept(hyperlink-99), Concept(diplomacy), Concept(bring-down-99), Concept(daughter), Concept(ethnic-group), Concept(air), Concept(take-on-99), Concept(south), Concept(account-99), Concept(committee), Concept(criticize-99), Concept(true-99), Concept(broadcast-program), Concept(least), Concept(traditional), Concept(put-out-99), Concept(rate-entity-99), Concept(equal-99), Concept(inherit-99), Concept(like-99), Concept(catch-up-99), Concept(clarify-99), Concept(get-through-99), Concept(vacation-99), Concept(healthy), Concept(city-district), Concept(fuck-99), Concept(act), Concept(north), Concept(ideology), Concept(meet-99), Concept(building), Concept(to-date), Concept(all), Const(imperative), Concept(launch-99), Concept(purchase-99), Concept(market-sector), Const(expressive), Concept(temperature-quantity), Concept(month), Concept(social), Concept(win-99), Concept(two), Concept(work-99), Concept(run-up-99), Concept(operate-99), Concept(pay-99), Concept(speak-out-99), Concept(natural-disaster), Concept(flat-out), Concept(population), Concept(since), Concept(instead-of-99), Concept(lie-99), Concept(believe-99), Concept(transition-99), Concept(have-polarity-99), Concept(concern-99), Concept(contrast-99), Concept(counter-99), Concept(peace), Concept(defend-99), Concept(good-99), Concept(center-99), Concept(feed-99), Concept(criminal-organization), Concept(money), Concept(bear-99), Concept(neoconservative), Concept(equal), Concept(right-wing), Concept(understand-99), Concept(possible-99), Concept(use-99), Concept(cut-off-99), Concept(research), Concept(take-away-99), Concept(employ-99), Concept(post-99), Concept(festival), Concept(product), Concept(bring-up-99), Concept(missile), Concept(in), Concept(have-concession-99), Concept(atom), Concept(quote-99), Concept(world-region), Concept(state-99), Concept(get-by-99), Concept(fire-99), Concept(road), Concept(woman), Concept(byline-99), Concept(avoid-99), Concept(doctor), Concept(accompany-99), Concept(per-se), Concept(become-99), Concept(be-compared-to-99), Concept(temporary), Concept(meter), Concept(harm-99), Concept(atomic), Concept(versatile), Concept(now), Concept(island), Concept(newspaper), Concept(likely-99), Concept(as-soon-as), Concept(remember-99), Concept(come-in-99), Concept(imagine-99), Concept(care-99), Concept(correct-99), Concept(take-out-99), Concept(know-99), Concept(shut-down-99), Concept(league), Concept(quantity), Concept(make-out-99), Concept(behave-99), Concept(or), Concept(receive-99), Concept(recreation-99), Concept(only), Concept(finance), Concept(improvise-99), Concept(university), Concept(work-out-99), Concept(hanging-99), Concept(turn-up-99), Concept(strategic), Concept(pay-off-99), Concept(coast), Concept(incident), Concept(own-99), Concept(seismic-quantity), Concept(nuts), Concept(wipe-99), Concept(left-wing), Concept(support-99), Concept(near), Concept(have-org-role-99), Concept(grow-99), Concept(by-far), Concept(proliferation), Concept(movement-99), Concept(prefer-99), Concept(custom), Concept(administrate-99), Concept(car-make), Concept(powerful-99), Concept(relative-position), Concept(continue-99), Concept(take-over-99), Concept(show-99), Concept(euro-cent), Concept(preexist-99), Concept(find-out-99), Concept(vice), Concept(conservative), Concept(inside)])\n"
     ]
    }
   ],
   "source": [
    "%load_ext autoreload\n",
    "%autoreload 2\n",
    "from npmt.rules import *\n",
    "import  pickle,pprint\n",
    "from utility.amr import *\n",
    "from utility.pickle_helper import *\n",
    "from utility.constants import *\n",
    "from utility.converter import *\n",
    "\n",
    "re_arrange = lambda d: [[k,d[k][0],d[k][1]] for k in d.keys()]\n",
    "sort_dict = lambda d:sorted(re_arrange(d), key=lambda x: x[1], reverse=True)\n",
    "\n",
    "pkl_file = open('non_rule_set', 'rb')\n",
    "\n",
    "data = pickle.load(pkl_file)\n",
    "non_rule_set_initial = data[\"initial_non_rule_set\"]\n",
    "\n",
    "\n",
    "#pprint.pprint (sorted_set)                    \n",
    "threshold = 5\n",
    "\n",
    "non_rule_set = data[\"non_rule_set\"]\n",
    "text_num,high_non_text,low_non_text=unmixe(non_rule_set,threshold)\n",
    "text_num_i,high_non_text_i,low_non_text_i=unmixe(non_rule_set_initial,threshold)\n",
    "print (\"final threshold=\", threshold,len(text_num),len(high_non_text),len(low_non_text))\n",
    "print(\"initial threshold=\",threshold,len(text_num_i),len(high_non_text_i),len(low_non_text_i))\n",
    "print (text_num.keys())\n",
    "def subtract_key(d1,d2):\n",
    "    d1_d2 = dict()\n",
    "    for i in d1.keys():\n",
    "        if not i in d2:\n",
    "            o = d1[i]\n",
    "            ss = [o[0]]\n",
    "            for s in o[1]:\n",
    "                ss.append(\" \".join(s))\n",
    "            d1_d2[i]=ss\n",
    "    return d1_d2\n",
    "d1_d2 = subtract_key(high_non_text,high_non_text_i)\n",
    "d2_d1 = subtract_key(high_non_text_i,high_non_text)\n",
    "#print (d1_d2)\n",
    "print ( )\n",
    "print (d1_d2.keys())\n",
    "print (\"in final, not in initial\",len(d1_d2))\n",
    "#print (d2_d1.keys())\n",
    "print (\"in initial, not in final\",len(d2_d1))\n",
    "\n",
    "print (text_num.keys())\n",
    "print (high_non_text.keys())\n",
    "#pprint (sort_dict(low_non_text))\n",
    "\n",
    "#final threshold= 10 184 514 6717\n",
    "#initial threshold= 10 184 732 7209\n",
    "\n",
    "#final threshold= 10 184 507 6605\n",
    "#initial threshold= 10 184 734 7213\n",
    "\n",
    "#final threshold= 10 186 514 6549\n",
    "#initial threshold= 10 186 732 7178"
   ]
  },
  {
   "cell_type": "code",
   "execution_count": null,
   "metadata": {
    "collapsed": true
   },
   "outputs": [],
   "source": []
  },
  {
   "cell_type": "code",
   "execution_count": 12,
   "metadata": {
    "collapsed": true
   },
   "outputs": [],
   "source": [
    "\n",
    "import spacy\n",
    "nlp = spacy.load('en') "
   ]
  },
  {
   "cell_type": "code",
   "execution_count": 10,
   "metadata": {
    "collapsed": false
   },
   "outputs": [
    {
     "name": "stdout",
     "output_type": "stream",
     "text": [
      "The autoreload extension is already loaded. To reload it, use:\n",
      "  %reload_ext autoreload\n"
     ]
    }
   ],
   "source": [
    "%load_ext autoreload\n",
    "%autoreload 2\n",
    "from npmt.rules import *\n",
    "\n",
    "rl= load_rule(\"rule_f\")"
   ]
  },
  {
   "cell_type": "code",
   "execution_count": 13,
   "metadata": {
    "collapsed": false
   },
   "outputs": [
    {
     "name": "stdout",
     "output_type": "stream",
     "text": [
      "The autoreload extension is already loaded. To reload it, use:\n",
      "  %reload_ext autoreload\n",
      "False\n",
      "[0, 0, 0, 0, 0, 0, 0, 0, 0]\n",
      "{'12': 2, 'decide': 1}\n",
      "[15, 'lastly , farthest away you can see putian of shenzhen .', \"amman 7 - 29 - 2007 ( a. f. p. ) - the saudi man 's team win the gold medal for the 4x100 meter relay today , sunday , in the last day of the 17 th asian athletics championship hold in the jordanian capital amman .\", \"government in the pro - us gulf state be wary of iran 's nuclear program but be also concern by the united states federal government 's refusal to rule out military action as a last resort .\", \"sisi 's last word be reportedly what happen to me?.\", 'elbaradei state that this be the last chance to build security in the middle east base on trust and cooperation and not on possession of nuclear weapon .', 'hawaii will be the last stop of his nine - day us trip .', 'kohl and yeltsin also discuss the issue of bosnia - herzegovina after attend the ceremony for the withdrawal of the last group of russian troop from germany .', 'ff , thanks for the discussion , i will leave the last post of the evening to you .', 'lastly , i be amazed by your spin on the fact that half of americans do not pay federal income tax .', 'december 26 , 1975 , mao zedong have his 82th birth day , his last one .', 'i think santorum be go to be the last of the \" not romneys \" , and newt have have his moment .', 'the last thing that china want be a weak dollar because that would completely wipe out any chance of a trade surplus from their number one trading partner ... the u.s.', 'finally \" a quarter of all primary school child be muslim \" .', \"it ' a comedy show that have some commentary , stewart would be the last one to say it ' news .\", 'and lastly , with the easter holiday come up , young child will need something to keep them occupy .']\n",
      " \n",
      "[15, 'lastly , farthest away you can see putian of shenzhen .', \"amman 7 - 29 - 2007 ( a. f. p. ) - the saudi man 's team win the gold medal for the 4x100 meter relay today , sunday , in the last day of the 17 th asian athletics championship hold in the jordanian capital amman .\", \"government in the pro - us gulf state be wary of iran 's nuclear program but be also concern by the united states federal government 's refusal to rule out military action as a last resort .\", \"sisi 's last word be reportedly what happen to me?.\", 'elbaradei state that this be the last chance to build security in the middle east base on trust and cooperation and not on possession of nuclear weapon .', 'hawaii will be the last stop of his nine - day us trip .', 'kohl and yeltsin also discuss the issue of bosnia - herzegovina after attend the ceremony for the withdrawal of the last group of russian troop from germany .', 'ff , thanks for the discussion , i will leave the last post of the evening to you .', 'lastly , i be amazed by your spin on the fact that half of americans do not pay federal income tax .', 'december 26 , 1975 , mao zedong have his 82th birth day , his last one .', 'i think santorum be go to be the last of the \" not romneys \" , and newt have have his moment .', 'the last thing that china want be a weak dollar because that would completely wipe out any chance of a trade surplus from their number one trading partner ... the u.s.', 'finally \" a quarter of all primary school child be muslim \" .', \"it ' a comedy show that have some commentary , stewart would be the last one to say it ' news .\", 'and lastly , with the easter holiday come up , young child will need something to keep them occupy .']\n",
      "['While', 'it', 'should', 'have', 'been', 'a', 'disaster', 'relief', 'command', 'that', 'takes', 'overall', 'leadership', ',', 'it', 'has', 'suddenly', 'come', 'face', '-', 'to', '-', 'face', 'with', 'the', 'broad', 'base', 'of', 'disaster', 'victims', ',', 'directly', 'dealing', 'with', 'them', '.'] ['while', 'it', 'should', 'have', 'be', 'a', 'disaster', 'relief', 'command', 'that', 'take', 'overall', 'leadership', ',', 'it', 'have', 'suddenly', 'come', 'face', '-', 'to', '-', 'face', 'with', 'the', 'broad', 'base', 'of', 'disaster', 'victim', ',', 'directly', 'deal', 'with', 'them', '.']\n",
      "amr_to_seq\n",
      "[([('<blank>', 2, -1)], 'Rule_Frame', ':top'), ([('and', 1, -1)], 'Rule_Concept', ':ARG1'), ([('<blank>', 2, -1)], 'Rule_Frame', ':op1'), ([('it', 1, -1)], 'Rule_Concept', ':ARG0'), ([('<blank>', 2, -1)], 'Rule_Concept', ':ARG1'), ([('<blank>', 2, -1)], 'Rule_Concept', ':mod'), ([('<blank>', 2, -1)], 'Rule_Concept', ':mod'), ([('<blank>', 2, -1)], 'Rule_Frame', ':ARG1-of'), ([('<blank>', 2, -1)], 'Rule_Concept', ':manner'), ([('<blank>', 2, -1)], 'Rule_Frame', ':op2'), ([('it', 1, -1)], 'Rule_Concept', ':ARG0'), ([('<blank>', 2, -1)], 'Rule_Concept', ':ARG2'), ([('<blank>', 2, -1)], 'Rule_Frame', ':ARG1-of'), ([('<blank>', 2, -1)], 'Rule_Frame', ':ARG2'), ([('<blank>', 2, -1)], 'Rule_Frame', ':ARG1'), ([('<blank>', 2, -1)], 'Rule_Frame', ':ARG1'), ([('<blank>', 2, -1)], 'Rule_Concept', ':ARG1'), ([('<blank>', 2, -1)], 'Rule_Frame', ':ARG0-of'), ([('<blank>', 2, -1)], 'Rule_Concept', ':mod')]\n",
      "it it with with\n"
     ]
    }
   ],
   "source": [
    "%load_ext autoreload\n",
    "%autoreload 2\n",
    "from npmt.rules import *\n",
    "def see(x):\n",
    "    o1 = non_rule_set[x]\n",
    "    ss1 = [o1[0]]\n",
    "    for s in o1[1]:\n",
    "        ss1.append(\" \".join(s))    \n",
    "    o2 = non_rule_set_initial[x]\n",
    "    ss2 = [o2[0]]\n",
    "    for s in o2[1]:\n",
    "        ss2.append(\" \".join(s))\n",
    "    return ss1, ss2\n",
    "\n",
    "#print (len(rl.frame_list))\n",
    "#read_frame(rl.frame_list)\n",
    "amr_t = \"(c / contrast-01 :ARG1 (a / and :op1 (f2 / face-01 :ARG0 (i / it) :ARG1 (v / victim :mod (d4 / disaster) :mod (b2 / base :ARG1-of (b / broad-02))) :manner (s / sudden)) :op2 (d / deal-01 :ARG0 i :ARG2 v :ARG1-of (d3 / direct-02))) :ARG2 (r2 / recommend-01 :ARG1 (c4 / command-02 :ARG1 (r / relieve-01 :ARG1 (d2 / disaster)) :ARG0-of (l / lead-02 :mod (o3 / overall)))))\"\n",
    "amr = AMR(amr_t)   \n",
    "m = [0,0,0,0,0,0,0,0,0]\n",
    "print (checkMatch(\"defend\",\"defense\",m))\n",
    "print (m)\n",
    "c = \"decide\"\n",
    "print (rl.lemma_freq_con[c])\n",
    "#print (rl.frame99(c))\n",
    "#print (\"word\",c,\";lemma\",rl.lemmatize_cheat[c.lower()])\n",
    "c = \"affect-99\" \n",
    "con = Concept(c)\n",
    "con = AMRNumber(\"-1\")\n",
    "print (see(con)[0])\n",
    "print (\" \")\n",
    "print (see(con)[1])\n",
    "\n",
    "sentence = \"While it should have been a disaster relief command that takes overall leadership, it has suddenly come face-to-face with the broad base of disaster victims, directly dealing with them.\"\n",
    "x = nlp(sentence)\n",
    "pos = [i.lemma_ for i in x]\n",
    "snt_token = [i.text for i in x]\n",
    "print (snt_token,pos)\n",
    "rule_ge = rl.apply_all_sentence([i.text for i in x],[i.lemma_ for i in x])\n",
    "print(\"amr_to_seq\")\n",
    "print (amr_to_seq(amr,snt_token,pos,rl,high_non_text))\n",
    "print(snt_token[1],snt_token[14],snt_token[23],snt_token[33])\n",
    "#print (rule_ge)\n",
    "#print (rl.lemmatize_cheat)"
   ]
  },
  {
   "cell_type": "code",
   "execution_count": 21,
   "metadata": {
    "collapsed": false
   },
   "outputs": [
    {
     "name": "stdout",
     "output_type": "stream",
     "text": [
      "[[(Concept(byline-99), Concept(byline-99))], [(Concept(publication), Concept(publication))], [(Concept(name), Concept(name))], [('Rule_String', 0)], [('Rule_String', 1)], [('Rule_String', 2)], [(Concept(person), Concept(person))], [(Concept(name), Concept(name))], [('Rule_String', 11)], [('Rule_String', 12)], [('Rule_Frame', 10)], [(Concept(date-entity), Concept(date-entity))], [('Rule_Num', 6)], [('Rule_Num', Num(8))], [(Concept(city), Concept(city))], [(Concept(name), Concept(name))]]\n",
      "(b / byline-91\n",
      "    :ARG0 (p2 / publication\n",
      "        :wiki \"Xinhua_News_Agency\"\n",
      "        :name (n / name\n",
      "            :op1 \"Xinhua\"\n",
      "            :op2 \"News\"\n",
      "            :op3 \"Agency\"))\n",
      "    :ARG1 (p / person\n",
      "        :wiki -\n",
      "        :name (n2 / name\n",
      "            :op1 \"Yongfeng\"\n",
      "            :op2 \"Shi\")\n",
      "        :ARG0-of (r / report-01))\n",
      "    :time (d / date-entity\n",
      "        :month 3\n",
      "        :day 8)\n",
      "    :location (c2 / city\n",
      "        :wiki \"Yichang\"\n",
      "        :name (n3 / name\n",
      "            :op1 \"Yichang\")))\n",
      "['Xinhua', 'News', 'Agency', ',', 'Yichang', ',', 'March', '8th', ',', 'by', 'reporter', 'Yongfeng', 'Shi']\n"
     ]
    }
   ],
   "source": [
    "print(amr_to_seq(amr,snt_token,pos,rl,high_non_text))\n",
    "print (amr)\n",
    "print (snt_token)"
   ]
  },
  {
   "cell_type": "code",
   "execution_count": null,
   "metadata": {
    "collapsed": false
   },
   "outputs": [],
   "source": [
    "\n",
    "\n",
    "def add_lemmatize_cheat(rl,non_rule_set):\n",
    "    newdict = dict()\n",
    "    for c in non_rule_set.keys():\n",
    "        if not c.is_constant() :\n",
    "            if c.is_frame():\n",
    "                c_t = re.sub(c.RE_FRAME_NUM,\"\",c.__str__())\n",
    "            else:\n",
    "                c_t = c.__str__()\n",
    "            sentences = non_rule_set[c][1]\n",
    "            non_rule_set[c][1] = []\n",
    "            for tokens in sentences:\n",
    "                matched = False\n",
    "                for t in tokens:\n",
    "                    t = t.lower()\n",
    "                    if checkMatch(t,c_t):\n",
    "                        if rl.add_lemmatize_cheat(t,c_t) or t in rl.lemmatize_cheat:\n",
    "                            matched = True\n",
    "                            print (t,wordnet_lemmatizer.lemmatize(t),c_t,c)\n",
    "                if not matched:\n",
    "                    non_rule_set[c][1].append(\" \".join(tokens))\n",
    "            if len( non_rule_set[c][1]) >0:\n",
    "                newdict[c] = non_rule_set[c]\n",
    "                newdict[c][0] = len(newdict[c][1])\n",
    "        else:\n",
    "            newdict[c] = non_rule_set[c]\n",
    "    return newdict\n",
    "#rl.frame_list[\"gone\"]    \n",
    "newdict = add_lemmatize_cheat(rl,non_rule_set)"
   ]
  },
  {
   "cell_type": "code",
   "execution_count": null,
   "metadata": {
    "collapsed": false
   },
   "outputs": [],
   "source": [
    "import  pickle,pprint\n",
    "\n",
    "re_arrange = lambda d: [[k,d[k][0],[' '.join(s) for s in d[k][1]]] for k in d.keys()]\n",
    "sort_dict = lambda d:sorted(re_arrange(d), key=lambda x: x[1], reverse=True)\n",
    "#pprint.pprint (sorted_set)                    \n",
    "threshold = 50\n",
    "newdict = non_rule_set\n",
    "text_num,high_non_text,low_non_text=unmixe(newdict,threshold)\n",
    "\n",
    "print (\"threshold\\ttotal\\tlennon_rule_set\\ttext_num\\thigh_frequency_concept\\tlow_frequency_concept\")\n",
    "print (str(threshold)+\"\\t\\t\"+str(len(newdict))+\"\\t\"+str(len(text_num))+\"\\t\\t\\t\\t\"+str(len(high_non_text))+\"\\t\\t\\t\"+str(len(low_non_text)))\n",
    "print (\"low_frequency_concept\")\n",
    "\n",
    "pprint.pprint (sort_dict(low_non_text))\n",
    "#pprint.pprint (sort_dict(high_non_text))\n"
   ]
  },
  {
   "cell_type": "code",
   "execution_count": null,
   "metadata": {
    "collapsed": false
   },
   "outputs": [],
   "source": [
    "\n",
    "from nltk.metrics.distance import edit_distance\n",
    "def checkMatch(s1,s2):\n",
    "    return (1.0*edit_distance(s1,s2)/min(len(s1),len(s2)) < 0.25) \n",
    "print (checkMatch(\"angrily\",\"angry\"))\n",
    "print (checkMatch(\"rediculousness\",\"ridiculous\"))"
   ]
  }
 ],
 "metadata": {
  "anaconda-cloud": {},
  "kernelspec": {
   "display_name": "Python [conda root]",
   "language": "python",
   "name": "conda-root-py"
  },
  "language_info": {
   "codemirror_mode": {
    "name": "ipython",
    "version": 3
   },
   "file_extension": ".py",
   "mimetype": "text/x-python",
   "name": "python",
   "nbconvert_exporter": "python",
   "pygments_lexer": "ipython3",
   "version": "3.5.2"
  }
 },
 "nbformat": 4,
 "nbformat_minor": 1
}
