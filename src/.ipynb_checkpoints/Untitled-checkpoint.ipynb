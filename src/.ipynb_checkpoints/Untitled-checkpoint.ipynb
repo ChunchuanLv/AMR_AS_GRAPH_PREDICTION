{
 "cells": [
  {
   "cell_type": "code",
   "execution_count": 15,
   "metadata": {
    "collapsed": false
   },
   "outputs": [
    {
     "name": "stdout",
     "output_type": "stream",
     "text": [
      "The autoreload extension is already loaded. To reload it, use:\n",
      "  %reload_ext autoreload\n",
      " It begins and ends with Romneycare.\n",
      "\n",
      "(a / and\n",
      "    :op1 (b / begin-01\n",
      "        :ARG1 (i / it)\n",
      "        :ARG2 (t / thing\n",
      "            :wiki \"Massachusetts_health_care_reform\"\n",
      "            :name (n / name\n",
      "                :op1 \"Romneycare\")))\n",
      "    :op2 (e / end-01\n",
      "        :ARG1 i\n",
      "        :ARG2 t)) [(Var(TOP), ':top', Var(a)), (Var(a), ':instance-of', Concept(and)), (Var(a), ':op1', Var(b)), (Var(b), ':instance-of', Concept(begin-01)), (Var(b), ':ARG1', Var(i)), (Var(i), ':instance-of', Concept(it)), (Var(b), ':ARG2', Var(t)), (Var(t), ':instance-of', Concept(thing)), (Var(t), ':wiki', \"Massachusetts_health_care_reform\"), (Var(t), ':name', Var(n)), (Var(n), ':instance-of', Concept(name)), (Var(n), ':op1', \"Romneycare\"), (Var(a), ':op2', Var(e)), (Var(e), ':instance-of', Concept(end-01)), (Var(e), ':ARG1', Var(i)), (Var(e), ':ARG2', Var(t))]\n",
      "[(Var(b), Concept(begin-01)), (Var(a), Concept(and)), (Var(e), Concept(end-01)), (Var(n), Concept(name)), (Var(i), Concept(it)), (Var(t), Concept(thing))]\n"
     ]
    },
    {
     "ename": "AttributeError",
     "evalue": "'Var' object has no attribute 'is_var'",
     "output_type": "error",
     "traceback": [
      "\u001b[0;31m---------------------------------------------------------------------------\u001b[0m",
      "\u001b[0;31mAttributeError\u001b[0m                            Traceback (most recent call last)",
      "\u001b[0;32m<ipython-input-15-943188d57bb7>\u001b[0m in \u001b[0;36m<module>\u001b[0;34m()\u001b[0m\n\u001b[1;32m     38\u001b[0m         \u001b[0mline\u001b[0m \u001b[0;34m=\u001b[0m \u001b[0mf\u001b[0m\u001b[0;34m.\u001b[0m\u001b[0mreadline\u001b[0m\u001b[0;34m(\u001b[0m\u001b[0;34m)\u001b[0m\u001b[0;34m\u001b[0m\u001b[0m\n\u001b[1;32m     39\u001b[0m \u001b[0;34m\u001b[0m\u001b[0m\n\u001b[0;32m---> 40\u001b[0;31m \u001b[0mcheckFile\u001b[0m\u001b[0;34m(\u001b[0m\u001b[0mfilepath\u001b[0m\u001b[0;34m)\u001b[0m\u001b[0;34m\u001b[0m\u001b[0m\n\u001b[0m",
      "\u001b[0;32m<ipython-input-15-943188d57bb7>\u001b[0m in \u001b[0;36mcheckFile\u001b[0;34m(filepath)\u001b[0m\n\u001b[1;32m     32\u001b[0m             \u001b[0mprint\u001b[0m \u001b[0;34m(\u001b[0m\u001b[0ma\u001b[0m\u001b[0;34m,\u001b[0m\u001b[0ma\u001b[0m\u001b[0;34m.\u001b[0m\u001b[0mtriples\u001b[0m\u001b[0;34m(\u001b[0m\u001b[0;34m)\u001b[0m\u001b[0;34m)\u001b[0m\u001b[0;34m\u001b[0m\u001b[0m\n\u001b[1;32m     33\u001b[0m             \u001b[0mprint\u001b[0m \u001b[0;34m(\u001b[0m\u001b[0ma\u001b[0m\u001b[0;34m.\u001b[0m\u001b[0mconcepts\u001b[0m\u001b[0;34m(\u001b[0m\u001b[0;34m)\u001b[0m\u001b[0;34m)\u001b[0m\u001b[0;34m\u001b[0m\u001b[0m\n\u001b[0;32m---> 34\u001b[0;31m             \u001b[0mprint\u001b[0m \u001b[0;34m(\u001b[0m\u001b[0ma\u001b[0m\u001b[0;34m.\u001b[0m\u001b[0mdfs\u001b[0m\u001b[0;34m(\u001b[0m\u001b[0;34m)\u001b[0m\u001b[0;34m)\u001b[0m\u001b[0;34m\u001b[0m\u001b[0m\n\u001b[0m\u001b[1;32m     35\u001b[0m             \u001b[0mn\u001b[0m \u001b[0;34m=\u001b[0m \u001b[0mn\u001b[0m\u001b[0;34m+\u001b[0m\u001b[0;36m1\u001b[0m\u001b[0;34m\u001b[0m\u001b[0m\n\u001b[1;32m     36\u001b[0m          \u001b[0;31m#   all_core_exceptions = all_core_exceptions +core_exceptions\u001b[0m\u001b[0;34m\u001b[0m\u001b[0;34m\u001b[0m\u001b[0m\n",
      "\u001b[0;32m/afs/inf.ed.ac.uk/user/s15/s1544871/AMR_AS_SRL/utility/amr.py\u001b[0m in \u001b[0;36mdfs\u001b[0;34m(self)\u001b[0m\n\u001b[1;32m    705\u001b[0m         \u001b[0ms\u001b[0m \u001b[0;34m=\u001b[0m \u001b[0;34m''\u001b[0m\u001b[0;34m\u001b[0m\u001b[0m\n\u001b[1;32m    706\u001b[0m         \u001b[0;32mfor\u001b[0m \u001b[0mh\u001b[0m\u001b[0;34m,\u001b[0m \u001b[0mr\u001b[0m\u001b[0;34m,\u001b[0m \u001b[0md\u001b[0m \u001b[0;32min\u001b[0m \u001b[0mself\u001b[0m\u001b[0;34m.\u001b[0m\u001b[0mtriples\u001b[0m\u001b[0;34m(\u001b[0m\u001b[0;34m)\u001b[0m\u001b[0;34m:\u001b[0m\u001b[0;34m\u001b[0m\u001b[0m\n\u001b[0;32m--> 707\u001b[0;31m             \u001b[0;32mif\u001b[0m \u001b[0md\u001b[0m\u001b[0;34m.\u001b[0m\u001b[0mis_var\u001b[0m\u001b[0;34m(\u001b[0m\u001b[0mself\u001b[0m\u001b[0;34m)\u001b[0m\u001b[0;34m:\u001b[0m\u001b[0;34m\u001b[0m\u001b[0m\n\u001b[0m\u001b[1;32m    708\u001b[0m                 \u001b[0mprint\u001b[0m \u001b[0;34m(\u001b[0m\u001b[0md\u001b[0m\u001b[0;34m)\u001b[0m\u001b[0;34m\u001b[0m\u001b[0m\n\u001b[1;32m    709\u001b[0m                 \u001b[0mprint\u001b[0m \u001b[0;34m(\u001b[0m\u001b[0mself\u001b[0m\u001b[0;34m.\u001b[0m\u001b[0m_v2c\u001b[0m\u001b[0;34m(\u001b[0m\u001b[0md\u001b[0m\u001b[0;34m)\u001b[0m\u001b[0;34m)\u001b[0m\u001b[0;34m\u001b[0m\u001b[0m\n",
      "\u001b[0;31mAttributeError\u001b[0m: 'Var' object has no attribute 'is_var'"
     ]
    }
   ],
   "source": [
    "%load_ext autoreload\n",
    "%autoreload 2\n",
    "from utility.amr import *\n",
    "\n",
    "filepath = \"../../Data/amr_annotation_r2/data/amrs/split/training/deft-p2-amr-r2-amrs-training-dfb.txt\"\n",
    "\n",
    "N = 1\n",
    "n = 0\n",
    "def checkFile(filepath):\n",
    "    f = open(filepath)\n",
    "    read = False;\n",
    "    all_core_exceptions = []\n",
    "    all_non_core_exceptions = []\n",
    "\n",
    "    line = f.readline()\n",
    "    n = 0\n",
    "    non_core_of_bad = 0\n",
    "    core_bad = 0\n",
    "    while line != '' and n <= N:\n",
    "        if line.startswith(\"# ::id\"):\n",
    "            s = \"\"\n",
    "            n=n+1\n",
    "            sid = line\n",
    "            snt = f.readline().replace(\"# ::snt\",\"\")\n",
    "            f.readline()\n",
    "            line = f.readline()\n",
    "            while line.strip() != '':\n",
    "                s = s+line\n",
    "                line = f.readline()     \n",
    "            print (snt)\n",
    "            a = AMR(s)\n",
    "            print (a,a.triples())\n",
    "            print (a.concepts())\n",
    "            print (a.dfs())\n",
    "            n = n+1\n",
    "         #   all_core_exceptions = all_core_exceptions +core_exceptions\n",
    "         #   all_non_core_exceptions = all_non_core_exceptions + non_core_exceptions        \n",
    "        line = f.readline()\n",
    "        \n",
    "checkFile(filepath)"
   ]
  },
  {
   "cell_type": "code",
   "execution_count": 4,
   "metadata": {
    "collapsed": false
   },
   "outputs": [
    {
     "name": "stdout",
     "output_type": "stream",
     "text": [
      "[3 4]\n"
     ]
    }
   ],
   "source": [
    "\n",
    "from numpy import array\n",
    "d = dict()\n",
    "d[3] =1\n",
    "d[4] =2\n",
    "print (array(sorted(d.keys())))"
   ]
  }
 ],
 "metadata": {
  "anaconda-cloud": {},
  "kernelspec": {
   "display_name": "Python [conda root]",
   "language": "python",
   "name": "conda-root-py"
  },
  "language_info": {
   "codemirror_mode": {
    "name": "ipython",
    "version": 3
   },
   "file_extension": ".py",
   "mimetype": "text/x-python",
   "name": "python",
   "nbconvert_exporter": "python",
   "pygments_lexer": "ipython3",
   "version": "3.5.2"
  }
 },
 "nbformat": 4,
 "nbformat_minor": 2
}
