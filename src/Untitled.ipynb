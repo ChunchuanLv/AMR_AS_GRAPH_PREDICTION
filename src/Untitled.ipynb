{
 "cells": [
  {
   "cell_type": "code",
   "execution_count": 27,
   "metadata": {
    "collapsed": false
   },
   "outputs": [
    {
     "name": "stdout",
     "output_type": "stream",
     "text": [
      "The autoreload extension is already loaded. To reload it, use:\n",
      "  %reload_ext autoreload\n",
      " It begins and ends with Romneycare.\n",
      "\n",
      "(a / and\n",
      "    :op1 (b / begin-01\n",
      "        :ARG1 (i / it)\n",
      "        :ARG2 (t / thing\n",
      "            :wiki \"Massachusetts_health_care_reform\"\n",
      "            :name (n / name\n",
      "                :op1 \"Romneycare\")))\n",
      "    :op2 (e / end-01\n",
      "        :ARG1 i\n",
      "        :ARG2 t)) [(Var(TOP), ':top', Var(a)), (Var(a), ':instance-of', Concept(and)), (Var(a), ':op1', Var(b)), (Var(b), ':instance-of', Concept(begin-01)), (Var(b), ':ARG1', Var(i)), (Var(i), ':instance-of', Concept(it)), (Var(b), ':ARG2', Var(t)), (Var(t), ':instance-of', Concept(thing)), (Var(t), ':wiki', \"Massachusetts_health_care_reform\"), (Var(t), ':name', Var(n)), (Var(n), ':instance-of', Concept(name)), (Var(n), ':op1', \"Romneycare\"), (Var(a), ':op2', Var(e)), (Var(e), ':instance-of', Concept(end-01)), (Var(e), ':ARG1', Var(i)), (Var(e), ':ARG2', Var(t))]\n",
      "[(Var(b), Concept(begin-01)), (Var(a), Concept(and)), (Var(e), Concept(end-01)), (Var(n), Concept(name)), (Var(i), Concept(it)), (Var(t), Concept(thing))]\n",
      "Concept(and) Concept(begin-01) Concept(it) Concept(thing) Concept(name) \"Romneycare\" Concept(end-01) Concept(it) Concept(thing)\n"
     ]
    }
   ],
   "source": [
    "%load_ext autoreload\n",
    "%autoreload 2\n",
    "from utility.amr import *\n",
    "\n",
    "filepath = \"../../Data/amr_annotation_r2/data/amrs/split/training/deft-p2-amr-r2-amrs-training-dfb.txt\"\n",
    "\n",
    "N = 1\n",
    "n = 0\n",
    "def checkFile(filepath):\n",
    "    f = open(filepath)\n",
    "    read = False;\n",
    "    all_core_exceptions = []\n",
    "    all_non_core_exceptions = []\n",
    "\n",
    "    line = f.readline()\n",
    "    n = 0\n",
    "    non_core_of_bad = 0\n",
    "    core_bad = 0\n",
    "    while line != '' and n <= N:\n",
    "        if line.startswith(\"# ::id\"):\n",
    "            s = \"\"\n",
    "            n=n+1\n",
    "            sid = line\n",
    "            snt = f.readline().replace(\"# ::snt\",\"\")\n",
    "            f.readline()\n",
    "            line = f.readline()\n",
    "            while line.strip() != '':\n",
    "                s = s+line\n",
    "                line = f.readline()     \n",
    "            print (snt)\n",
    "            a = AMR(s)\n",
    "            print (a,a.triples())\n",
    "            print (a.concepts())\n",
    "            print (a.dfs())\n",
    "            n = n+1\n",
    "         #   all_core_exceptions = all_core_exceptions +core_exceptions\n",
    "         #   all_non_core_exceptions = all_non_core_exceptions + non_core_exceptions        \n",
    "        line = f.readline()\n",
    "        \n",
    "checkFile(filepath)"
   ]
  },
  {
   "cell_type": "code",
   "execution_count": 4,
   "metadata": {
    "collapsed": false
   },
   "outputs": [
    {
     "name": "stdout",
     "output_type": "stream",
     "text": [
      "[3 4]\n"
     ]
    }
   ],
   "source": [
    "\n",
    "from numpy import array\n",
    "d = dict()\n",
    "d[3] =1\n",
    "d[4] =2\n",
    "print (array(sorted(d.keys())))"
   ]
  }
 ],
 "metadata": {
  "anaconda-cloud": {},
  "kernelspec": {
   "display_name": "Python [conda root]",
   "language": "python",
   "name": "conda-root-py"
  },
  "language_info": {
   "codemirror_mode": {
    "name": "ipython",
    "version": 3
   },
   "file_extension": ".py",
   "mimetype": "text/x-python",
   "name": "python",
   "nbconvert_exporter": "python",
   "pygments_lexer": "ipython3",
   "version": "3.5.2"
  }
 },
 "nbformat": 4,
 "nbformat_minor": 2
}
