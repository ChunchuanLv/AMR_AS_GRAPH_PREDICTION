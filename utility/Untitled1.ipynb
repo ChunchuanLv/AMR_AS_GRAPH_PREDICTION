{
 "cells": [
  {
   "cell_type": "code",
   "execution_count": 38,
   "metadata": {
    "collapsed": false
   },
   "outputs": [
    {
     "name": "stdout",
     "output_type": "stream",
     "text": [
      "The autoreload extension is already loaded. To reload it, use:\n",
      "  %reload_ext autoreload\n"
     ]
    }
   ],
   "source": [
    "%load_ext autoreload\n",
    "%autoreload 2\n",
    "import networkx as nx\n",
    "G=nx.Graph()\n",
    "from utility.myamr import *"
   ]
  },
  {
   "cell_type": "code",
   "execution_count": 22,
   "metadata": {
    "collapsed": false
   },
   "outputs": [
    {
     "name": "stdout",
     "output_type": "stream",
     "text": [
      "[Concept(x)]\n"
     ]
    }
   ],
   "source": [
    "G.add_node(Concept(\"x\"))\n",
    "G.add_node(Concept(\"x\"))\n",
    "print (G.nodes())"
   ]
  },
  {
   "cell_type": "code",
   "execution_count": 39,
   "metadata": {
    "collapsed": false
   },
   "outputs": [
    {
     "name": "stdout",
     "output_type": "stream",
     "text": [
      "[(Concept(contrast-01), ':ARG2', Concept(call-03)), (Concept(call-03), ':ARG0', Concept(person)), (Concept(call-03), ':ARG1', Concept(set-out-06)), (Concept(call-03), ':ARG2', Concept(and)), (Concept(call-03), ':time', Concept(program)), (Concept(person), ':wiki', Num(-)), (Concept(person), ':name', Concept(name)), (Concept(set-out-06), ':ARG1', Concept(and)), (Concept(and), ':op1', Concept(party)), (Concept(and), ':op2', Concept(government-organization)), (Concept(name), ':op1', \"Wang\"), (Concept(name), ':op2', \"Peirong\"), (Concept(and), ':op1', Concept(policy-01)), (Concept(and), ':op2', Concept(provision)), (Concept(and), ':ARG0', Concept(protect-01)), (Concept(government-organization), ':ARG0-of', Concept(govern-01)), (Concept(protect-01), ':ARG1', Concept(and)), (Concept(and), ':op1', Concept(safe-01)), (Concept(and), ':op2', Concept(right-05)), (Concept(safe-01), ':ARG1', Concept(person)), (Concept(safe-01), ':ARG1-of', Concept(personal-02)), (Concept(right-05), ':ARG1-of', Concept(legal-02)), (Concept(person), ':ARG0-of', Concept(blow-whistle-00))]\n"
     ]
    }
   ],
   "source": [
    "amr = myAMR(\"(c / contrast-01 :ARG2 (c2 / call-03 :ARG0 (p / person :wiki - :name (n / name :op1 \\\"Wang\\\" :op2 \\\"Peirong\\\")) :ARG1 (s / set-out-06 :ARG0 a :ARG1 (a2 / and :op1 (p3 / policy-01) :op2 (p4 / provision) :purpose (p5 / protect-01 :ARG0 a2 :ARG1 (a3 / and :op1 (s2 / safe-01 :ARG1 p8 :ARG1-of (p6 / personal-02)) :op2 (r / right-05 :ARG1 (p8 / person :ARG0-of (b / blow-whistle-00)) :ARG1-of (l / legal-02)))))) :ARG2 (a / and :op1 (p2 / party) :op2 (g / government-organization :ARG0-of (g2 / govern-01))) :time (p7 / program)))\")\n",
    "print (amr.bfs())"
   ]
  }
 ],
 "metadata": {
  "kernelspec": {
   "display_name": "Python 3",
   "language": "python",
   "name": "python3"
  },
  "language_info": {
   "codemirror_mode": {
    "name": "ipython",
    "version": 3
   },
   "file_extension": ".py",
   "mimetype": "text/x-python",
   "name": "python",
   "nbconvert_exporter": "python",
   "pygments_lexer": "ipython3",
   "version": "3.6.0"
  }
 },
 "nbformat": 4,
 "nbformat_minor": 2
}
